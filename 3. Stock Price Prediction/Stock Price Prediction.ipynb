{
 "cells": [
  {
   "cell_type": "code",
   "execution_count": 1,
   "id": "a31ce6b4-a667-49da-89e1-de2f1f8c16a8",
   "metadata": {},
   "outputs": [],
   "source": [
    "import pandas as pd\n",
    "import numpy as np\n",
    "import matplotlib.pyplot as plt"
   ]
  },
  {
   "cell_type": "code",
   "execution_count": 26,
   "id": "ea70befc-0261-466c-9d81-1c4ede2dca08",
   "metadata": {},
   "outputs": [],
   "source": [
    "df = pd.read_csv('historyprice.csv', parse_dates=True, index_col='Date')"
   ]
  },
  {
   "cell_type": "code",
   "execution_count": 27,
   "id": "578484bf-c017-4ad3-9fde-532b800adc64",
   "metadata": {},
   "outputs": [
    {
     "data": {
      "text/html": [
       "<div>\n",
       "<style scoped>\n",
       "    .dataframe tbody tr th:only-of-type {\n",
       "        vertical-align: middle;\n",
       "    }\n",
       "\n",
       "    .dataframe tbody tr th {\n",
       "        vertical-align: top;\n",
       "    }\n",
       "\n",
       "    .dataframe thead th {\n",
       "        text-align: right;\n",
       "    }\n",
       "</style>\n",
       "<table border=\"1\" class=\"dataframe\">\n",
       "  <thead>\n",
       "    <tr style=\"text-align: right;\">\n",
       "      <th></th>\n",
       "      <th>Prev Close</th>\n",
       "      <th>OPEN</th>\n",
       "      <th>HIGH</th>\n",
       "      <th>LOW</th>\n",
       "      <th>Last Price</th>\n",
       "      <th>close</th>\n",
       "      <th>Average Price</th>\n",
       "      <th>Total Traded Quantity</th>\n",
       "      <th>Turnover</th>\n",
       "      <th>No. of Trades</th>\n",
       "      <th>Deliverable Qty</th>\n",
       "      <th>% Dly Qt to Traded Qty</th>\n",
       "    </tr>\n",
       "    <tr>\n",
       "      <th>Date</th>\n",
       "      <th></th>\n",
       "      <th></th>\n",
       "      <th></th>\n",
       "      <th></th>\n",
       "      <th></th>\n",
       "      <th></th>\n",
       "      <th></th>\n",
       "      <th></th>\n",
       "      <th></th>\n",
       "      <th></th>\n",
       "      <th></th>\n",
       "      <th></th>\n",
       "    </tr>\n",
       "  </thead>\n",
       "  <tbody>\n",
       "    <tr>\n",
       "      <th>2020-12-17</th>\n",
       "      <td>2814.20</td>\n",
       "      <td>2811.00</td>\n",
       "      <td>2853.70</td>\n",
       "      <td>2805.00</td>\n",
       "      <td>2848.70</td>\n",
       "      <td>2838.20</td>\n",
       "      <td>2823.94</td>\n",
       "      <td>2863460</td>\n",
       "      <td>8.086237e+09</td>\n",
       "      <td>121983</td>\n",
       "      <td>1423130</td>\n",
       "      <td>49.7</td>\n",
       "    </tr>\n",
       "    <tr>\n",
       "      <th>2020-12-18</th>\n",
       "      <td>2838.20</td>\n",
       "      <td>2868.00</td>\n",
       "      <td>2898.00</td>\n",
       "      <td>2846.20</td>\n",
       "      <td>2851.95</td>\n",
       "      <td>2861.00</td>\n",
       "      <td>2873.74</td>\n",
       "      <td>6076692</td>\n",
       "      <td>1.746284e+10</td>\n",
       "      <td>178840</td>\n",
       "      <td>2436219</td>\n",
       "      <td>40.09</td>\n",
       "    </tr>\n",
       "    <tr>\n",
       "      <th>2020-12-21</th>\n",
       "      <td>2861.00</td>\n",
       "      <td>2861.00</td>\n",
       "      <td>2886.50</td>\n",
       "      <td>2785.00</td>\n",
       "      <td>2810.00</td>\n",
       "      <td>2820.15</td>\n",
       "      <td>2853.21</td>\n",
       "      <td>2705195</td>\n",
       "      <td>7.718476e+09</td>\n",
       "      <td>141821</td>\n",
       "      <td>887083</td>\n",
       "      <td>32.79</td>\n",
       "    </tr>\n",
       "    <tr>\n",
       "      <th>2020-12-22</th>\n",
       "      <td>2820.15</td>\n",
       "      <td>2834.00</td>\n",
       "      <td>2883.65</td>\n",
       "      <td>2818.65</td>\n",
       "      <td>2870.65</td>\n",
       "      <td>2872.50</td>\n",
       "      <td>2848.13</td>\n",
       "      <td>2881737</td>\n",
       "      <td>8.207569e+09</td>\n",
       "      <td>158517</td>\n",
       "      <td>1123581</td>\n",
       "      <td>38.99</td>\n",
       "    </tr>\n",
       "    <tr>\n",
       "      <th>2020-12-23</th>\n",
       "      <td>2872.50</td>\n",
       "      <td>2876.05</td>\n",
       "      <td>2919.00</td>\n",
       "      <td>2865.45</td>\n",
       "      <td>2907.15</td>\n",
       "      <td>2908.75</td>\n",
       "      <td>2904.67</td>\n",
       "      <td>2790988</td>\n",
       "      <td>8.106912e+09</td>\n",
       "      <td>125341</td>\n",
       "      <td>947547</td>\n",
       "      <td>33.95</td>\n",
       "    </tr>\n",
       "  </tbody>\n",
       "</table>\n",
       "</div>"
      ],
      "text/plain": [
       "            Prev Close     OPEN     HIGH      LOW  Last Price    close  \\\n",
       "Date                                                                     \n",
       "2020-12-17     2814.20  2811.00  2853.70  2805.00     2848.70  2838.20   \n",
       "2020-12-18     2838.20  2868.00  2898.00  2846.20     2851.95  2861.00   \n",
       "2020-12-21     2861.00  2861.00  2886.50  2785.00     2810.00  2820.15   \n",
       "2020-12-22     2820.15  2834.00  2883.65  2818.65     2870.65  2872.50   \n",
       "2020-12-23     2872.50  2876.05  2919.00  2865.45     2907.15  2908.75   \n",
       "\n",
       "            Average Price  Total Traded Quantity      Turnover  No. of Trades  \\\n",
       "Date                                                                            \n",
       "2020-12-17        2823.94                2863460  8.086237e+09         121983   \n",
       "2020-12-18        2873.74                6076692  1.746284e+10         178840   \n",
       "2020-12-21        2853.21                2705195  7.718476e+09         141821   \n",
       "2020-12-22        2848.13                2881737  8.207569e+09         158517   \n",
       "2020-12-23        2904.67                2790988  8.106912e+09         125341   \n",
       "\n",
       "           Deliverable Qty % Dly Qt to Traded Qty  \n",
       "Date                                               \n",
       "2020-12-17         1423130                   49.7  \n",
       "2020-12-18         2436219                  40.09  \n",
       "2020-12-21          887083                  32.79  \n",
       "2020-12-22         1123581                  38.99  \n",
       "2020-12-23          947547                  33.95  "
      ]
     },
     "execution_count": 27,
     "metadata": {},
     "output_type": "execute_result"
    }
   ],
   "source": [
    "df.head()"
   ]
  },
  {
   "cell_type": "code",
   "execution_count": 28,
   "id": "44236675-36e1-475d-bb87-080e889aad66",
   "metadata": {},
   "outputs": [
    {
     "name": "stdout",
     "output_type": "stream",
     "text": [
      "<class 'pandas.core.frame.DataFrame'>\n",
      "DatetimeIndex: 496 entries, 2020-12-17 to 2022-12-07\n",
      "Data columns (total 12 columns):\n",
      " #   Column                  Non-Null Count  Dtype  \n",
      "---  ------                  --------------  -----  \n",
      " 0   Prev Close              496 non-null    float64\n",
      " 1   OPEN                    496 non-null    float64\n",
      " 2   HIGH                    496 non-null    float64\n",
      " 3   LOW                     496 non-null    float64\n",
      " 4   Last Price              496 non-null    float64\n",
      " 5   close                   496 non-null    float64\n",
      " 6   Average Price           496 non-null    float64\n",
      " 7   Total Traded Quantity   496 non-null    int64  \n",
      " 8   Turnover                496 non-null    float64\n",
      " 9   No. of Trades           496 non-null    int64  \n",
      " 10  Deliverable Qty         496 non-null    object \n",
      " 11  % Dly Qt to Traded Qty  496 non-null    object \n",
      "dtypes: float64(8), int64(2), object(2)\n",
      "memory usage: 50.4+ KB\n"
     ]
    }
   ],
   "source": [
    "df.info()"
   ]
  },
  {
   "cell_type": "code",
   "execution_count": 29,
   "id": "b69d090b-f93f-43ad-ab00-5ed7c7e029ae",
   "metadata": {},
   "outputs": [
    {
     "data": {
      "text/plain": [
       "<AxesSubplot:xlabel='Date'>"
      ]
     },
     "execution_count": 29,
     "metadata": {},
     "output_type": "execute_result"
    },
    {
     "data": {
      "image/png": "[encoded data removed]",
      "text/plain": [
       "<Figure size 640x480 with 1 Axes>"
      ]
     },
     "metadata": {},
     "output_type": "display_data"
    }
   ],
   "source": [
    "df['close'].plot()"
   ]
  },
  {
   "cell_type": "code",
   "execution_count": 30,
   "id": "c7d34073-3dc0-4061-bebd-c03e6a332ff7",
   "metadata": {},
   "outputs": [
    {
     "data": {
      "text/plain": [
       "496"
      ]
     },
     "execution_count": 30,
     "metadata": {},
     "output_type": "execute_result"
    }
   ],
   "source": [
    "len(df)"
   ]
  },
  {
   "cell_type": "code",
   "execution_count": 31,
   "id": "c1f3168e-248a-4a12-99be-89dbfd557cb0",
   "metadata": {},
   "outputs": [],
   "source": [
    "tcs_close = df['close']"
   ]
  },
  {
   "cell_type": "code",
   "execution_count": 32,
   "id": "1b3a11a2-aebd-4eac-a4cd-832bde11394b",
   "metadata": {},
   "outputs": [
    {
     "data": {
      "text/plain": [
       "(496,)"
      ]
     },
     "execution_count": 32,
     "metadata": {},
     "output_type": "execute_result"
    }
   ],
   "source": [
    "tcs_close.reset_index(drop=True,inplace=True)\n",
    "tcs_close.shape"
   ]
  },
  {
   "cell_type": "code",
   "execution_count": 33,
   "id": "60bddbb7-c81d-4e86-865e-6acbc6129b5b",
   "metadata": {},
   "outputs": [
    {
     "data": {
      "text/html": [
       "<div>\n",
       "<style scoped>\n",
       "    .dataframe tbody tr th:only-of-type {\n",
       "        vertical-align: middle;\n",
       "    }\n",
       "\n",
       "    .dataframe tbody tr th {\n",
       "        vertical-align: top;\n",
       "    }\n",
       "\n",
       "    .dataframe thead th {\n",
       "        text-align: right;\n",
       "    }\n",
       "</style>\n",
       "<table border=\"1\" class=\"dataframe\">\n",
       "  <thead>\n",
       "    <tr style=\"text-align: right;\">\n",
       "      <th></th>\n",
       "      <th>close</th>\n",
       "    </tr>\n",
       "  </thead>\n",
       "  <tbody>\n",
       "    <tr>\n",
       "      <th>0</th>\n",
       "      <td>2838.20</td>\n",
       "    </tr>\n",
       "    <tr>\n",
       "      <th>1</th>\n",
       "      <td>2861.00</td>\n",
       "    </tr>\n",
       "    <tr>\n",
       "      <th>2</th>\n",
       "      <td>2820.15</td>\n",
       "    </tr>\n",
       "    <tr>\n",
       "      <th>3</th>\n",
       "      <td>2872.50</td>\n",
       "    </tr>\n",
       "    <tr>\n",
       "      <th>4</th>\n",
       "      <td>2908.75</td>\n",
       "    </tr>\n",
       "  </tbody>\n",
       "</table>\n",
       "</div>"
      ],
      "text/plain": [
       "     close\n",
       "0  2838.20\n",
       "1  2861.00\n",
       "2  2820.15\n",
       "3  2872.50\n",
       "4  2908.75"
      ]
     },
     "execution_count": 33,
     "metadata": {},
     "output_type": "execute_result"
    }
   ],
   "source": [
    "tcs_close = pd.DataFrame(tcs_close)\n",
    "tcs_close.head()"
   ]
  },
  {
   "cell_type": "code",
   "execution_count": 34,
   "id": "571f1892-3d75-4de0-a041-ea8c52fa5497",
   "metadata": {},
   "outputs": [],
   "source": [
    "train = tcs_close.iloc[:480]\n",
    "test = tcs_close.iloc[480:]"
   ]
  },
  {
   "cell_type": "code",
   "execution_count": 35,
   "id": "e8a5e4cf-9d34-422f-a27e-97f8a23e7898",
   "metadata": {},
   "outputs": [],
   "source": [
    "from sklearn.preprocessing import MinMaxScaler"
   ]
  },
  {
   "cell_type": "code",
   "execution_count": 36,
   "id": "0c18e390-d4ee-4a07-a79f-706b9e7bea1e",
   "metadata": {},
   "outputs": [],
   "source": [
    "scaler = MinMaxScaler()"
   ]
  },
  {
   "cell_type": "code",
   "execution_count": 37,
   "id": "12446441-8537-4cef-8daf-41150c13e773",
   "metadata": {},
   "outputs": [
    {
     "data": {
      "text/plain": [
       "MinMaxScaler()"
      ]
     },
     "execution_count": 37,
     "metadata": {},
     "output_type": "execute_result"
    }
   ],
   "source": [
    "scaler.fit(train)"
   ]
  },
  {
   "cell_type": "code",
   "execution_count": 38,
   "id": "bc74a0b6-acff-4bce-a023-5afe95b579ae",
   "metadata": {},
   "outputs": [],
   "source": [
    "scaled_train = scaler.transform(train)\n",
    "scaled_test = scaler.transform(test)"
   ]
  },
  {
   "cell_type": "code",
   "execution_count": 39,
   "id": "257a9893-12b7-46b9-a472-d4f3a1f49276",
   "metadata": {},
   "outputs": [],
   "source": [
    "from tensorflow.keras.preprocessing.sequence import TimeseriesGenerator"
   ]
  },
  {
   "cell_type": "markdown",
   "id": "d2672354-856d-4396-933f-db9171254e2b",
   "metadata": {},
   "source": [
    "## Creating the Model"
   ]
  },
  {
   "cell_type": "code",
   "execution_count": 40,
   "id": "7b60d808-e4a4-440f-9eaf-e5d7a7df7ddc",
   "metadata": {},
   "outputs": [
    {
     "data": {
      "text/plain": [
       "(16, 1)"
      ]
     },
     "execution_count": 40,
     "metadata": {},
     "output_type": "execute_result"
    }
   ],
   "source": [
    "test.shape"
   ]
  },
  {
   "cell_type": "code",
   "execution_count": 41,
   "id": "3e76e369-904b-4557-b166-1890e464c98c",
   "metadata": {
    "tags": []
   },
   "outputs": [
    {
     "name": "stdout",
     "output_type": "stream",
     "text": [
      "Help on class TimeseriesGenerator in module keras.preprocessing.sequence:\n",
      "\n",
      "class TimeseriesGenerator(keras.utils.data_utils.Sequence)\n",
      " |  TimeseriesGenerator(data, targets, length, sampling_rate=1, stride=1, start_index=0, end_index=None, shuffle=False, reverse=False, batch_size=128)\n",
      " |  \n",
      " |  Utility class for generating batches of temporal data.\n",
      " |  \n",
      " |  Deprecated: `tf.keras.preprocessing.sequence.TimeseriesGenerator` does not\n",
      " |  operate on tensors and is not recommended for new code. Prefer using a\n",
      " |  `tf.data.Dataset` which provides a more efficient and flexible mechanism for\n",
      " |  batching, shuffling, and windowing input. See the\n",
      " |  [tf.data guide](https://www.tensorflow.org/guide/data) for more details.\n",
      " |  \n",
      " |  This class takes in a sequence of data-points gathered at\n",
      " |  equal intervals, along with time series parameters such as\n",
      " |  stride, length of history, etc., to produce batches for\n",
      " |  training/validation.\n",
      " |  \n",
      " |  Arguments:\n",
      " |      data: Indexable generator (such as list or Numpy array)\n",
      " |          containing consecutive data points (timesteps).\n",
      " |          The data should be at 2D, and axis 0 is expected\n",
      " |          to be the time dimension.\n",
      " |      targets: Targets corresponding to timesteps in `data`.\n",
      " |          It should have same length as `data`.\n",
      " |      length: Length of the output sequences (in number of timesteps).\n",
      " |      sampling_rate: Period between successive individual timesteps\n",
      " |          within sequences. For rate `r`, timesteps\n",
      " |          `data[i]`, `data[i-r]`, ... `data[i - length]`\n",
      " |          are used for create a sample sequence.\n",
      " |      stride: Period between successive output sequences.\n",
      " |          For stride `s`, consecutive output samples would\n",
      " |          be centered around `data[i]`, `data[i+s]`, `data[i+2*s]`, etc.\n",
      " |      start_index: Data points earlier than `start_index` will not be used\n",
      " |          in the output sequences. This is useful to reserve part of the\n",
      " |          data for test or validation.\n",
      " |      end_index: Data points later than `end_index` will not be used\n",
      " |          in the output sequences. This is useful to reserve part of the\n",
      " |          data for test or validation.\n",
      " |      shuffle: Whether to shuffle output samples,\n",
      " |          or instead draw them in chronological order.\n",
      " |      reverse: Boolean: if `true`, timesteps in each output sample will be\n",
      " |          in reverse chronological order.\n",
      " |      batch_size: Number of timeseries samples in each batch\n",
      " |          (except maybe the last one).\n",
      " |  \n",
      " |  Returns:\n",
      " |      A [Sequence](\n",
      " |      https://www.tensorflow.org/api_docs/python/tf/keras/utils/Sequence)\n",
      " |      instance.\n",
      " |  \n",
      " |  Examples:\n",
      " |      ```python\n",
      " |      from keras.preprocessing.sequence import TimeseriesGenerator\n",
      " |      import numpy as np\n",
      " |      data = np.array([[i] for i in range(50)])\n",
      " |      targets = np.array([[i] for i in range(50)])\n",
      " |      data_gen = TimeseriesGenerator(data, targets,\n",
      " |                                     length=10, sampling_rate=2,\n",
      " |                                     batch_size=2)\n",
      " |      assert len(data_gen) == 20\n",
      " |      batch_0 = data_gen[0]\n",
      " |      x, y = batch_0\n",
      " |      assert np.array_equal(x,\n",
      " |                            np.array([[[0], [2], [4], [6], [8]],\n",
      " |                                      [[1], [3], [5], [7], [9]]]))\n",
      " |      assert np.array_equal(y,\n",
      " |                            np.array([[10], [11]]))\n",
      " |      ```\n",
      " |  \n",
      " |  Method resolution order:\n",
      " |      TimeseriesGenerator\n",
      " |      keras.utils.data_utils.Sequence\n",
      " |      builtins.object\n",
      " |  \n",
      " |  Methods defined here:\n",
      " |  \n",
      " |  __getitem__(self, index)\n",
      " |      Gets batch at position `index`.\n",
      " |      \n",
      " |      Args:\n",
      " |          index: position of the batch in the Sequence.\n",
      " |      \n",
      " |      Returns:\n",
      " |          A batch\n",
      " |  \n",
      " |  __init__(self, data, targets, length, sampling_rate=1, stride=1, start_index=0, end_index=None, shuffle=False, reverse=False, batch_size=128)\n",
      " |      Initialize self.  See help(type(self)) for accurate signature.\n",
      " |  \n",
      " |  __len__(self)\n",
      " |      Number of batch in the Sequence.\n",
      " |      \n",
      " |      Returns:\n",
      " |          The number of batches in the Sequence.\n",
      " |  \n",
      " |  get_config(self)\n",
      " |      Returns the TimeseriesGenerator configuration as Python dictionary.\n",
      " |      \n",
      " |      Returns:\n",
      " |          A Python dictionary with the TimeseriesGenerator configuration.\n",
      " |  \n",
      " |  to_json(self, **kwargs)\n",
      " |      Returns a JSON string containing the timeseries generator configuration.\n",
      " |      \n",
      " |      Args:\n",
      " |          **kwargs: Additional keyword arguments\n",
      " |              to be passed to `json.dumps()`.\n",
      " |      Returns:\n",
      " |          A JSON string containing the tokenizer configuration.\n",
      " |  \n",
      " |  ----------------------------------------------------------------------\n",
      " |  Methods inherited from keras.utils.data_utils.Sequence:\n",
      " |  \n",
      " |  __iter__(self)\n",
      " |      Create a generator that iterate over the Sequence.\n",
      " |  \n",
      " |  on_epoch_end(self)\n",
      " |      Method called at the end of every epoch.\n",
      " |  \n",
      " |  ----------------------------------------------------------------------\n",
      " |  Data descriptors inherited from keras.utils.data_utils.Sequence:\n",
      " |  \n",
      " |  __dict__\n",
      " |      dictionary for instance variables (if defined)\n",
      " |  \n",
      " |  __weakref__\n",
      " |      list of weak references to the object (if defined)\n",
      "\n"
     ]
    }
   ],
   "source": [
    "help(TimeseriesGenerator)"
   ]
  },
  {
   "cell_type": "code",
   "execution_count": 43,
   "id": "4ee71fbf-036f-4369-8949-ee3be34981b8",
   "metadata": {},
   "outputs": [],
   "source": [
    "length = 16\n",
    "batch_size = 32\n",
    "generator = TimeseriesGenerator(scaled_train, scaled_train, length = length, batch_size=batch_size)\n",
    "# Will create an object with train - length and last 16 values will be predicted and validated"
   ]
  },
  {
   "cell_type": "code",
   "execution_count": 44,
   "id": "f77098e6-e888-4b34-b1f1-dc5365cf08e3",
   "metadata": {},
   "outputs": [],
   "source": [
    "from tensorflow.keras.models import Sequential\n",
    "from tensorflow.keras.layers import Dense, SimpleRNN, LSTM, Dropout"
   ]
  },
  {
   "cell_type": "code",
   "execution_count": 45,
   "id": "ede95508-1f20-455b-8bfc-b1ed6a8deba4",
   "metadata": {},
   "outputs": [],
   "source": [
    "n_features = 1"
   ]
  },
  {
   "cell_type": "code",
   "execution_count": 47,
   "id": "a41fa074-dd79-4bfa-93a9-0ea154b72b2d",
   "metadata": {},
   "outputs": [],
   "source": [
    "model = Sequential()\n",
    "\n",
    "model.add(SimpleRNN(30, input_shape=(length, n_features)))\n",
    "model.add(Dropout(rate=0.2))\n",
    "#fully connected layer occupies most of the parameters and hence neurons develop co-dependency amongst each other\n",
    "#during training which curbs the individual power of each neuron leading to over-fitting of training data.\n",
    "model.add(Dense(1))\n",
    "\n",
    "model.compile(optimizer='adam', loss='mse')\n",
    "            "
   ]
  },
  {
   "cell_type": "code",
   "execution_count": 48,
   "id": "b8bb8331-3a91-4ea2-ba3f-b31592f7f4f9",
   "metadata": {},
   "outputs": [
    {
     "name": "stdout",
     "output_type": "stream",
     "text": [
      "Model: \"sequential_1\"\n",
      "_________________________________________________________________\n",
      " Layer (type)                Output Shape              Param #   \n",
      "=================================================================\n",
      " simple_rnn (SimpleRNN)      (None, 30)                960       \n",
      "                                                                 \n",
      " dropout (Dropout)           (None, 30)                0         \n",
      "                                                                 \n",
      " dense (Dense)               (None, 1)                 31        \n",
      "                                                                 \n",
      "=================================================================\n",
      "Total params: 991\n",
      "Trainable params: 991\n",
      "Non-trainable params: 0\n",
      "_________________________________________________________________\n"
     ]
    }
   ],
   "source": [
    "model.summary()"
   ]
  },
  {
   "cell_type": "code",
   "execution_count": 49,
   "id": "0ce4be08-79e2-4dbe-8d56-c4fcc94da0c0",
   "metadata": {},
   "outputs": [
    {
     "name": "stdout",
     "output_type": "stream",
     "text": [
      "Epoch 1/10\n"
     ]
    },
    {
     "name": "stderr",
     "output_type": "stream",
     "text": [
      "C:\\Users\\vijai\\AppData\\Local\\Temp\\ipykernel_6924\\902690755.py:1: UserWarning: `Model.fit_generator` is deprecated and will be removed in a future version. Please use `Model.fit`, which supports generators.\n",
      "  model.fit_generator(generator, epochs=10, shuffle=False)\n"
     ]
    },
    {
     "name": "stdout",
     "output_type": "stream",
     "text": [
      "15/15 [==============================] - 2s 5ms/step - loss: 0.0737\n",
      "Epoch 2/10\n",
      "15/15 [==============================] - 0s 6ms/step - loss: 0.0331\n",
      "Epoch 3/10\n",
      "15/15 [==============================] - 0s 6ms/step - loss: 0.0171\n",
      "Epoch 4/10\n",
      "15/15 [==============================] - 0s 6ms/step - loss: 0.0155\n",
      "Epoch 5/10\n",
      "15/15 [==============================] - 0s 6ms/step - loss: 0.0150\n",
      "Epoch 6/10\n",
      "15/15 [==============================] - 0s 5ms/step - loss: 0.0130\n",
      "Epoch 7/10\n",
      "15/15 [==============================] - 0s 6ms/step - loss: 0.0111\n",
      "Epoch 8/10\n",
      "15/15 [==============================] - 0s 7ms/step - loss: 0.0113\n",
      "Epoch 9/10\n",
      "15/15 [==============================] - 0s 6ms/step - loss: 0.0102\n",
      "Epoch 10/10\n",
      "15/15 [==============================] - 0s 6ms/step - loss: 0.0087\n"
     ]
    },
    {
     "data": {
      "text/plain": [
       "<keras.callbacks.History at 0x1eee3b763a0>"
      ]
     },
     "execution_count": 49,
     "metadata": {},
     "output_type": "execute_result"
    }
   ],
   "source": [
    "model.fit_generator(generator, epochs=10, shuffle=False)"
   ]
  },
  {
   "cell_type": "code",
   "execution_count": 50,
   "id": "2fc6b445-b839-4d32-8409-6fb8f3505d05",
   "metadata": {},
   "outputs": [],
   "source": [
    "losses = pd.DataFrame(model.history.history)"
   ]
  },
  {
   "cell_type": "code",
   "execution_count": 51,
   "id": "ab198ccd-0ff4-4772-9a71-8cf8391a0ce1",
   "metadata": {},
   "outputs": [
    {
     "data": {
      "text/plain": [
       "<AxesSubplot:>"
      ]
     },
     "execution_count": 51,
     "metadata": {},
     "output_type": "execute_result"
    },
    {
     "data": {
      "image/png": "[encoded data removed]",
      "text/plain": [
       "<Figure size 640x480 with 1 Axes>"
      ]
     },
     "metadata": {},
     "output_type": "display_data"
    }
   ],
   "source": [
    "losses.plot()"
   ]
  },
  {
   "cell_type": "code",
   "execution_count": 52,
   "id": "b1908a8b-7990-48f2-bb36-85d8c0b05783",
   "metadata": {},
   "outputs": [],
   "source": [
    "## Evaluate test set"
   ]
  },
  {
   "cell_type": "code",
   "execution_count": 53,
   "id": "8c4952e6-f8cc-49a1-a1a4-61c61b7e245a",
   "metadata": {},
   "outputs": [],
   "source": [
    "first_eval_batch = scaled_train[-length:] # picks last 16 values in train set"
   ]
  },
  {
   "cell_type": "code",
   "execution_count": 54,
   "id": "9e4585eb-6320-4d53-910e-7f9861baab88",
   "metadata": {},
   "outputs": [
    {
     "data": {
      "text/plain": [
       "array([[0.28486239],\n",
       "       [0.285196  ],\n",
       "       [0.28127606],\n",
       "       [0.28615513],\n",
       "       [0.31109258],\n",
       "       [0.36659716],\n",
       "       [0.35158465],\n",
       "       [0.32243536],\n",
       "       [0.33131776],\n",
       "       [0.34491243],\n",
       "       [0.33019183],\n",
       "       [0.32151793],\n",
       "       [0.41351126],\n",
       "       [0.41351126],\n",
       "       [0.42981651],\n",
       "       [0.42739783]])"
      ]
     },
     "execution_count": 54,
     "metadata": {},
     "output_type": "execute_result"
    }
   ],
   "source": [
    "first_eval_batch"
   ]
  },
  {
   "cell_type": "code",
   "execution_count": 55,
   "id": "26d6eaaf-5486-4753-9cbc-b503628b4b5a",
   "metadata": {},
   "outputs": [],
   "source": [
    "first_eval_batch = first_eval_batch.reshape((1, length, 1))"
   ]
  },
  {
   "cell_type": "code",
   "execution_count": 56,
   "id": "bd18ed32-93d0-4b01-9ded-0033471fbae4",
   "metadata": {},
   "outputs": [
    {
     "data": {
      "text/plain": [
       "array([[[0.28486239],\n",
       "        [0.285196  ],\n",
       "        [0.28127606],\n",
       "        [0.28615513],\n",
       "        [0.31109258],\n",
       "        [0.36659716],\n",
       "        [0.35158465],\n",
       "        [0.32243536],\n",
       "        [0.33131776],\n",
       "        [0.34491243],\n",
       "        [0.33019183],\n",
       "        [0.32151793],\n",
       "        [0.41351126],\n",
       "        [0.41351126],\n",
       "        [0.42981651],\n",
       "        [0.42739783]]])"
      ]
     },
     "execution_count": 56,
     "metadata": {},
     "output_type": "execute_result"
    }
   ],
   "source": [
    "first_eval_batch"
   ]
  },
  {
   "cell_type": "code",
   "execution_count": 57,
   "id": "a020f3bf-1fa2-41db-9dd5-4ebfdf66280e",
   "metadata": {},
   "outputs": [
    {
     "name": "stdout",
     "output_type": "stream",
     "text": [
      "1/1 [==============================] - 0s 296ms/step\n"
     ]
    },
    {
     "data": {
      "text/plain": [
       "array([[0.46027094]], dtype=float32)"
      ]
     },
     "execution_count": 57,
     "metadata": {},
     "output_type": "execute_result"
    }
   ],
   "source": [
    "model.predict(first_eval_batch) #first prediction after train set which is first value of test"
   ]
  },
  {
   "cell_type": "code",
   "execution_count": 58,
   "id": "0b9a82b9-8f68-496d-ab3b-32c8fdbd9b45",
   "metadata": {},
   "outputs": [
    {
     "data": {
      "text/plain": [
       "array([0.44637198])"
      ]
     },
     "execution_count": 58,
     "metadata": {},
     "output_type": "execute_result"
    }
   ],
   "source": [
    "scaled_test[0]"
   ]
  },
  {
   "cell_type": "code",
   "execution_count": 59,
   "id": "69156bcf-c3ea-4eb8-9037-f2ff038f4437",
   "metadata": {},
   "outputs": [
    {
     "name": "stdout",
     "output_type": "stream",
     "text": [
      "1/1 [==============================] - 0s 45ms/step\n",
      "1/1 [==============================] - 0s 49ms/step\n",
      "1/1 [==============================] - 0s 36ms/step\n",
      "1/1 [==============================] - 0s 45ms/step\n",
      "1/1 [==============================] - 0s 30ms/step\n",
      "1/1 [==============================] - 0s 36ms/step\n",
      "1/1 [==============================] - 0s 28ms/step\n",
      "1/1 [==============================] - 0s 27ms/step\n",
      "1/1 [==============================] - 0s 27ms/step\n",
      "1/1 [==============================] - 0s 27ms/step\n",
      "1/1 [==============================] - 0s 27ms/step\n",
      "1/1 [==============================] - 0s 29ms/step\n",
      "1/1 [==============================] - 0s 27ms/step\n",
      "1/1 [==============================] - 0s 27ms/step\n",
      "1/1 [==============================] - 0s 26ms/step\n",
      "1/1 [==============================] - 0s 28ms/step\n"
     ]
    }
   ],
   "source": [
    "test_predictions = []\n",
    "\n",
    "first_eval_batch = scaled_train[-length:]\n",
    "current_batch = first_eval_batch.reshape((1,length,n_features))\n",
    "\n",
    "for i in range(len(test)):\n",
    "    # Get prediction 1 time stamp ahead ([0] is for grabbing just the number instead of [array])\n",
    "    current_pred = model.predict(current_batch)[0]\n",
    "    \n",
    "    #store prediction\n",
    "    test_predictions.append(current_pred)\n",
    "    \n",
    "    #update batch to include prediction and drop first value\n",
    "    current_batch = np.append(current_batch[:,1:,:],[[current_pred]],axis=1)\n",
    "                                "
   ]
  },
  {
   "cell_type": "code",
   "execution_count": 60,
   "id": "82195238-65ae-4e66-a4a1-5c7381066772",
   "metadata": {},
   "outputs": [
    {
     "data": {
      "text/plain": [
       "[array([0.46027094], dtype=float32),\n",
       " array([0.47151265], dtype=float32),\n",
       " array([0.47591543], dtype=float32),\n",
       " array([0.48098075], dtype=float32),\n",
       " array([0.49395478], dtype=float32),\n",
       " array([0.49934128], dtype=float32),\n",
       " array([0.4939557], dtype=float32),\n",
       " array([0.50324637], dtype=float32),\n",
       " array([0.5129362], dtype=float32),\n",
       " array([0.52506983], dtype=float32),\n",
       " array([0.52572787], dtype=float32),\n",
       " array([0.5207634], dtype=float32),\n",
       " array([0.53942525], dtype=float32),\n",
       " array([0.546217], dtype=float32),\n",
       " array([0.5544014], dtype=float32),\n",
       " array([0.55336225], dtype=float32)]"
      ]
     },
     "execution_count": 60,
     "metadata": {},
     "output_type": "execute_result"
    }
   ],
   "source": [
    "test_predictions"
   ]
  },
  {
   "cell_type": "code",
   "execution_count": 61,
   "id": "712acdf7-51ae-499e-a257-6faceae9d5b4",
   "metadata": {},
   "outputs": [],
   "source": [
    "true_predictions = scaler.inverse_transform(test_predictions)"
   ]
  },
  {
   "cell_type": "code",
   "execution_count": 62,
   "id": "f2c73657-aebf-406e-ba4e-f98515537d21",
   "metadata": {},
   "outputs": [
    {
     "data": {
      "text/plain": [
       "array([[3372.01485857],\n",
       "       [3385.49366193],\n",
       "       [3390.77260294],\n",
       "       [3396.84592392],\n",
       "       [3412.40177848],\n",
       "       [3418.86019384],\n",
       "       [3412.40288621],\n",
       "       [3423.54239401],\n",
       "       [3435.16047367],\n",
       "       [3449.70872953],\n",
       "       [3450.49771383],\n",
       "       [3444.54531326],\n",
       "       [3466.92087939],\n",
       "       [3475.06421217],\n",
       "       [3484.87727585],\n",
       "       [3483.63133814]])"
      ]
     },
     "execution_count": 62,
     "metadata": {},
     "output_type": "execute_result"
    }
   ],
   "source": [
    "true_predictions"
   ]
  },
  {
   "cell_type": "code",
   "execution_count": 63,
   "id": "f9c6cc06-7e7f-4594-a956-c51db61fc425",
   "metadata": {},
   "outputs": [
    {
     "name": "stderr",
     "output_type": "stream",
     "text": [
      "C:\\Users\\vijai\\AppData\\Local\\Temp\\ipykernel_6924\\349349345.py:1: SettingWithCopyWarning: \n",
      "A value is trying to be set on a copy of a slice from a DataFrame.\n",
      "Try using .loc[row_indexer,col_indexer] = value instead\n",
      "\n",
      "See the caveats in the documentation: https://pandas.pydata.org/pandas-docs/stable/user_guide/indexing.html#returning-a-view-versus-a-copy\n",
      "  test['predictions'] = true_predictions\n"
     ]
    }
   ],
   "source": [
    "test['predictions'] = true_predictions"
   ]
  },
  {
   "cell_type": "code",
   "execution_count": 64,
   "id": "c7842146-2123-4832-aad2-072544536492",
   "metadata": {},
   "outputs": [
    {
     "data": {
      "text/html": [
       "<div>\n",
       "<style scoped>\n",
       "    .dataframe tbody tr th:only-of-type {\n",
       "        vertical-align: middle;\n",
       "    }\n",
       "\n",
       "    .dataframe tbody tr th {\n",
       "        vertical-align: top;\n",
       "    }\n",
       "\n",
       "    .dataframe thead th {\n",
       "        text-align: right;\n",
       "    }\n",
       "</style>\n",
       "<table border=\"1\" class=\"dataframe\">\n",
       "  <thead>\n",
       "    <tr style=\"text-align: right;\">\n",
       "      <th></th>\n",
       "      <th>close</th>\n",
       "      <th>predictions</th>\n",
       "    </tr>\n",
       "  </thead>\n",
       "  <tbody>\n",
       "    <tr>\n",
       "      <th>480</th>\n",
       "      <td>3355.35</td>\n",
       "      <td>3372.014859</td>\n",
       "    </tr>\n",
       "    <tr>\n",
       "      <th>481</th>\n",
       "      <td>3349.00</td>\n",
       "      <td>3385.493662</td>\n",
       "    </tr>\n",
       "    <tr>\n",
       "      <th>482</th>\n",
       "      <td>3343.45</td>\n",
       "      <td>3390.772603</td>\n",
       "    </tr>\n",
       "    <tr>\n",
       "      <th>483</th>\n",
       "      <td>3283.50</td>\n",
       "      <td>3396.845924</td>\n",
       "    </tr>\n",
       "    <tr>\n",
       "      <th>484</th>\n",
       "      <td>3314.95</td>\n",
       "      <td>3412.401778</td>\n",
       "    </tr>\n",
       "    <tr>\n",
       "      <th>485</th>\n",
       "      <td>3308.30</td>\n",
       "      <td>3418.860194</td>\n",
       "    </tr>\n",
       "    <tr>\n",
       "      <th>486</th>\n",
       "      <td>3380.15</td>\n",
       "      <td>3412.402886</td>\n",
       "    </tr>\n",
       "    <tr>\n",
       "      <th>487</th>\n",
       "      <td>3389.65</td>\n",
       "      <td>3423.542394</td>\n",
       "    </tr>\n",
       "    <tr>\n",
       "      <th>488</th>\n",
       "      <td>3395.25</td>\n",
       "      <td>3435.160474</td>\n",
       "    </tr>\n",
       "    <tr>\n",
       "      <th>489</th>\n",
       "      <td>3397.35</td>\n",
       "      <td>3449.708730</td>\n",
       "    </tr>\n",
       "    <tr>\n",
       "      <th>490</th>\n",
       "      <td>3390.80</td>\n",
       "      <td>3450.497714</td>\n",
       "    </tr>\n",
       "    <tr>\n",
       "      <th>491</th>\n",
       "      <td>3475.65</td>\n",
       "      <td>3444.545313</td>\n",
       "    </tr>\n",
       "    <tr>\n",
       "      <th>492</th>\n",
       "      <td>3439.15</td>\n",
       "      <td>3466.920879</td>\n",
       "    </tr>\n",
       "    <tr>\n",
       "      <th>493</th>\n",
       "      <td>3425.90</td>\n",
       "      <td>3475.064212</td>\n",
       "    </tr>\n",
       "    <tr>\n",
       "      <th>494</th>\n",
       "      <td>3385.35</td>\n",
       "      <td>3484.877276</td>\n",
       "    </tr>\n",
       "    <tr>\n",
       "      <th>495</th>\n",
       "      <td>3380.60</td>\n",
       "      <td>3483.631338</td>\n",
       "    </tr>\n",
       "  </tbody>\n",
       "</table>\n",
       "</div>"
      ],
      "text/plain": [
       "       close  predictions\n",
       "480  3355.35  3372.014859\n",
       "481  3349.00  3385.493662\n",
       "482  3343.45  3390.772603\n",
       "483  3283.50  3396.845924\n",
       "484  3314.95  3412.401778\n",
       "485  3308.30  3418.860194\n",
       "486  3380.15  3412.402886\n",
       "487  3389.65  3423.542394\n",
       "488  3395.25  3435.160474\n",
       "489  3397.35  3449.708730\n",
       "490  3390.80  3450.497714\n",
       "491  3475.65  3444.545313\n",
       "492  3439.15  3466.920879\n",
       "493  3425.90  3475.064212\n",
       "494  3385.35  3484.877276\n",
       "495  3380.60  3483.631338"
      ]
     },
     "execution_count": 64,
     "metadata": {},
     "output_type": "execute_result"
    }
   ],
   "source": [
    "test"
   ]
  },
  {
   "cell_type": "code",
   "execution_count": 65,
   "id": "fae2bd7d-d268-417a-950c-5e79b35b46e6",
   "metadata": {},
   "outputs": [
    {
     "data": {
      "text/plain": [
       "<AxesSubplot:>"
      ]
     },
     "execution_count": 65,
     "metadata": {},
     "output_type": "execute_result"
    },
    {
     "data": {
      "image/png": "[encoded data removed]",
      "text/plain": [
       "<Figure size 1200x800 with 1 Axes>"
      ]
     },
     "metadata": {},
     "output_type": "display_data"
    },
    {
     "data": {
      "image/png": "[encoded data removed]",
      "text/plain": [
       "<Figure size 640x480 with 1 Axes>"
      ]
     },
     "metadata": {},
     "output_type": "display_data"
    }
   ],
   "source": [
    "test.plot(figsize=(12,8))\n",
    "tcs_close.plot()"
   ]
  },
  {
   "cell_type": "markdown",
   "id": "7a256586-1cd6-479c-b6de-1644d715efe5",
   "metadata": {},
   "source": [
    "## Let us create Full Model"
   ]
  },
  {
   "cell_type": "code",
   "execution_count": 67,
   "id": "6936343f-855c-46ec-a150-e4c09a4edc69",
   "metadata": {},
   "outputs": [],
   "source": [
    "full_scaler = MinMaxScaler()\n",
    "scaled_full_data = full_scaler.fit_transform(tcs_close)"
   ]
  },
  {
   "cell_type": "code",
   "execution_count": 68,
   "id": "d50dbf7d-aa2b-4dad-afb5-e1c6e0507e16",
   "metadata": {},
   "outputs": [],
   "source": [
    "generator = TimeseriesGenerator(scaled_full_data, scaled_full_data, length = length, batch_size=32)"
   ]
  },
  {
   "cell_type": "code",
   "execution_count": 70,
   "id": "97f10abb-094f-455e-a3d8-055bd8052b7f",
   "metadata": {},
   "outputs": [],
   "source": [
    "model = Sequential()\n",
    "\n",
    "model.add(SimpleRNN(30,input_shape=(length,n_features)))\n",
    "model.add(Dropout(rate=0.2))\n",
    "model.add(Dense(1))\n",
    "\n",
    "model.compile(optimizer='adam', loss='mse')"
   ]
  },
  {
   "cell_type": "code",
   "execution_count": 71,
   "id": "2666798f-e6b0-452f-9785-90ea6dfa6120",
   "metadata": {},
   "outputs": [
    {
     "name": "stdout",
     "output_type": "stream",
     "text": [
      "Epoch 1/10\n"
     ]
    },
    {
     "name": "stderr",
     "output_type": "stream",
     "text": [
      "C:\\Users\\vijai\\AppData\\Local\\Temp\\ipykernel_6924\\902690755.py:1: UserWarning: `Model.fit_generator` is deprecated and will be removed in a future version. Please use `Model.fit`, which supports generators.\n",
      "  model.fit_generator(generator, epochs=10, shuffle=False)\n"
     ]
    },
    {
     "name": "stdout",
     "output_type": "stream",
     "text": [
      "15/15 [==============================] - 2s 5ms/step - loss: 0.1026\n",
      "Epoch 2/10\n",
      "15/15 [==============================] - 0s 6ms/step - loss: 0.0455\n",
      "Epoch 3/10\n",
      "15/15 [==============================] - 0s 6ms/step - loss: 0.0204\n",
      "Epoch 4/10\n",
      "15/15 [==============================] - 0s 6ms/step - loss: 0.0122\n",
      "Epoch 5/10\n",
      "15/15 [==============================] - 0s 5ms/step - loss: 0.0113\n",
      "Epoch 6/10\n",
      "15/15 [==============================] - 0s 5ms/step - loss: 0.0093\n",
      "Epoch 7/10\n",
      "15/15 [==============================] - 0s 5ms/step - loss: 0.0091\n",
      "Epoch 8/10\n",
      "15/15 [==============================] - 0s 6ms/step - loss: 0.0090\n",
      "Epoch 9/10\n",
      "15/15 [==============================] - 0s 6ms/step - loss: 0.0095\n",
      "Epoch 10/10\n",
      "15/15 [==============================] - 0s 6ms/step - loss: 0.0085\n"
     ]
    },
    {
     "data": {
      "text/plain": [
       "<keras.callbacks.History at 0x1eee61d57f0>"
      ]
     },
     "execution_count": 71,
     "metadata": {},
     "output_type": "execute_result"
    }
   ],
   "source": [
    "model.fit_generator(generator, epochs=10, shuffle=False)"
   ]
  },
  {
   "cell_type": "code",
   "execution_count": 72,
   "id": "2951fa24-7b3b-42ac-a59a-f71177ceaf6d",
   "metadata": {},
   "outputs": [
    {
     "data": {
      "text/plain": [
       "<AxesSubplot:>"
      ]
     },
     "execution_count": 72,
     "metadata": {},
     "output_type": "execute_result"
    },
    {
     "data": {
      "image/png": "[encoded data removed]",
      "text/plain": [
       "<Figure size 640x480 with 1 Axes>"
      ]
     },
     "metadata": {},
     "output_type": "display_data"
    }
   ],
   "source": [
    "full_model_losses = pd.DataFrame(model.history.history)\n",
    "full_model_losses.plot()"
   ]
  },
  {
   "cell_type": "code",
   "execution_count": 73,
   "id": "ead92914-6b58-48a2-861c-5e179e6f5c13",
   "metadata": {},
   "outputs": [
    {
     "name": "stdout",
     "output_type": "stream",
     "text": [
      "1/1 [==============================] - 0s 295ms/step\n",
      "1/1 [==============================] - 0s 30ms/step\n",
      "1/1 [==============================] - 0s 30ms/step\n",
      "1/1 [==============================] - 0s 28ms/step\n",
      "1/1 [==============================] - 0s 28ms/step\n",
      "1/1 [==============================] - 0s 27ms/step\n",
      "1/1 [==============================] - 0s 26ms/step\n",
      "1/1 [==============================] - 0s 27ms/step\n",
      "1/1 [==============================] - 0s 27ms/step\n",
      "1/1 [==============================] - 0s 28ms/step\n",
      "1/1 [==============================] - 0s 30ms/step\n",
      "1/1 [==============================] - 0s 27ms/step\n",
      "1/1 [==============================] - 0s 29ms/step\n",
      "1/1 [==============================] - 0s 29ms/step\n",
      "1/1 [==============================] - 0s 27ms/step\n",
      "1/1 [==============================] - 0s 27ms/step\n",
      "1/1 [==============================] - 0s 27ms/step\n",
      "1/1 [==============================] - 0s 28ms/step\n",
      "1/1 [==============================] - 0s 25ms/step\n",
      "1/1 [==============================] - 0s 32ms/step\n"
     ]
    }
   ],
   "source": [
    "forecast = []\n",
    "\n",
    "first_eval_batch = scaled_train[-length:]\n",
    "current_batch = first_eval_batch.reshape((1,length,n_features))\n",
    "\n",
    "for i in range(20):\n",
    "    #get prediction 1 time stamp ahead ([0] is for grabbing just the number instead of [array])\n",
    "    current_pred = model.predict(current_batch)[0]\n",
    "    \n",
    "    #store prediction\n",
    "    forecast.append(current_pred)\n",
    "    \n",
    "    #update batch to now include prediction and drop first value\n",
    "    current_batch = np.append(current_batch[:,1:,:],[[current_pred]],axis=1)"
   ]
  },
  {
   "cell_type": "code",
   "execution_count": 74,
   "id": "c36b15c5-5356-4843-8241-4170b496f4ab",
   "metadata": {},
   "outputs": [],
   "source": [
    "forecast = scaler.inverse_transform(forecast)"
   ]
  },
  {
   "cell_type": "code",
   "execution_count": 75,
   "id": "173b80c9-14c3-4ab8-9a2a-585db19f6c92",
   "metadata": {},
   "outputs": [
    {
     "data": {
      "text/plain": [
       "array([[3338.74412679],\n",
       "       [3333.71367296],\n",
       "       [3381.38626256],\n",
       "       [3378.53159016],\n",
       "       [3380.71194541],\n",
       "       [3364.00891911],\n",
       "       [3395.23436632],\n",
       "       [3386.22050657],\n",
       "       [3400.15015301],\n",
       "       [3400.32270759],\n",
       "       [3423.87285265],\n",
       "       [3396.13465887],\n",
       "       [3433.52904853],\n",
       "       [3417.26325103],\n",
       "       [3438.61249437],\n",
       "       [3429.11774012],\n",
       "       [3458.35203823],\n",
       "       [3437.16752394],\n",
       "       [3464.8124189 ],\n",
       "       [3449.1791667 ]])"
      ]
     },
     "execution_count": 75,
     "metadata": {},
     "output_type": "execute_result"
    }
   ],
   "source": [
    "forecast"
   ]
  },
  {
   "cell_type": "code",
   "execution_count": 76,
   "id": "46279edc-6e6e-4f37-83c7-ea3cdbfaa710",
   "metadata": {},
   "outputs": [
    {
     "data": {
      "text/plain": [
       "array([3338.74412679, 3333.71367296, 3381.38626256, 3378.53159016,\n",
       "       3380.71194541, 3364.00891911, 3395.23436632, 3386.22050657,\n",
       "       3400.15015301, 3400.32270759, 3423.87285265, 3396.13465887,\n",
       "       3433.52904853, 3417.26325103, 3438.61249437, 3429.11774012,\n",
       "       3458.35203823, 3437.16752394, 3464.8124189 , 3449.1791667 ])"
      ]
     },
     "execution_count": 76,
     "metadata": {},
     "output_type": "execute_result"
    }
   ],
   "source": [
    "forecast.flatten()"
   ]
  },
  {
   "cell_type": "code",
   "execution_count": 77,
   "id": "efaeb5e7-fb3c-430d-8fcd-96d122e0a198",
   "metadata": {
    "collapsed": true,
    "jupyter": {
     "outputs_hidden": true
    },
    "tags": []
   },
   "outputs": [
    {
     "data": {
      "text/plain": [
       "array([[2838.2 ],\n",
       "       [2861.  ],\n",
       "       [2820.15],\n",
       "       [2872.5 ],\n",
       "       [2908.75],\n",
       "       [2909.35],\n",
       "       [2929.4 ],\n",
       "       [2930.5 ],\n",
       "       [2909.3 ],\n",
       "       [2862.75],\n",
       "       [2928.25],\n",
       "       [3039.45],\n",
       "       [3093.  ],\n",
       "       [3051.5 ],\n",
       "       [3032.8 ],\n",
       "       [3120.9 ],\n",
       "       [3176.45],\n",
       "       [3174.85],\n",
       "       [3158.95],\n",
       "       [3250.7 ],\n",
       "       [3233.35],\n",
       "       [3221.75],\n",
       "       [3260.7 ],\n",
       "       [3308.8 ],\n",
       "       [3273.85],\n",
       "       [3303.1 ],\n",
       "       [3291.3 ],\n",
       "       [3261.05],\n",
       "       [3196.55],\n",
       "       [3111.35],\n",
       "       [3139.35],\n",
       "       [3203.45],\n",
       "       [3200.05],\n",
       "       [3188.45],\n",
       "       [3157.95],\n",
       "       [3214.1 ],\n",
       "       [3176.9 ],\n",
       "       [3213.3 ],\n",
       "       [3206.  ],\n",
       "       [3190.8 ],\n",
       "       [3139.85],\n",
       "       [3108.8 ],\n",
       "       [3073.1 ],\n",
       "       [3057.35],\n",
       "       [3071.85],\n",
       "       [2958.45],\n",
       "       [2980.2 ],\n",
       "       [2948.1 ],\n",
       "       [2995.3 ],\n",
       "       [2894.3 ],\n",
       "       [2924.2 ],\n",
       "       [3006.35],\n",
       "       [3059.1 ],\n",
       "       [3049.7 ],\n",
       "       [3008.05],\n",
       "       [3006.95],\n",
       "       [3050.95],\n",
       "       [3070.95],\n",
       "       [3057.95],\n",
       "       [3066.15],\n",
       "       [3110.05],\n",
       "       [3112.95],\n",
       "       [3036.5 ],\n",
       "       [3050.2 ],\n",
       "       [3129.65],\n",
       "       [3142.6 ],\n",
       "       [3121.1 ],\n",
       "       [3064.85],\n",
       "       [3066.8 ],\n",
       "       [3158.55],\n",
       "       [3177.85],\n",
       "       [3165.  ],\n",
       "       [3238.9 ],\n",
       "       [3264.7 ],\n",
       "       [3271.4 ],\n",
       "       [3271.4 ],\n",
       "       [3317.35],\n",
       "       [3322.25],\n",
       "       [3246.55],\n",
       "       [3104.05],\n",
       "       [3218.95],\n",
       "       [3195.15],\n",
       "       [3161.8 ],\n",
       "       [3144.55],\n",
       "       [3118.8 ],\n",
       "       [3109.5 ],\n",
       "       [3100.8 ],\n",
       "       [3132.  ],\n",
       "       [3124.1 ],\n",
       "       [3115.25],\n",
       "       [3035.65],\n",
       "       [3037.  ],\n",
       "       [3049.75],\n",
       "       [3095.7 ],\n",
       "       [3111.45],\n",
       "       [3132.9 ],\n",
       "       [3145.5 ],\n",
       "       [3122.6 ],\n",
       "       [3087.6 ],\n",
       "       [3051.5 ],\n",
       "       [3069.75],\n",
       "       [3088.8 ],\n",
       "       [3082.  ],\n",
       "       [3060.  ],\n",
       "       [3080.5 ],\n",
       "       [3081.5 ],\n",
       "       [3114.  ],\n",
       "       [3158.5 ],\n",
       "       [3180.  ],\n",
       "       [3143.6 ],\n",
       "       [3159.15],\n",
       "       [3153.  ],\n",
       "       [3129.45],\n",
       "       [3141.25],\n",
       "       [3143.75],\n",
       "       [3183.2 ],\n",
       "       [3200.15],\n",
       "       [3200.25],\n",
       "       [3216.8 ],\n",
       "       [3273.8 ],\n",
       "       [3276.35],\n",
       "       [3262.75],\n",
       "       [3274.35],\n",
       "       [3317.75],\n",
       "       [3297.3 ],\n",
       "       [3273.1 ],\n",
       "       [3301.2 ],\n",
       "       [3261.4 ],\n",
       "       [3373.6 ],\n",
       "       [3380.8 ],\n",
       "       [3336.75],\n",
       "       [3340.85],\n",
       "       [3345.75],\n",
       "       [3341.5 ],\n",
       "       [3325.45],\n",
       "       [3321.  ],\n",
       "       [3262.3 ],\n",
       "       [3274.95],\n",
       "       [3258.5 ],\n",
       "       [3208.15],\n",
       "       [3193.1 ],\n",
       "       [3187.55],\n",
       "       [3214.55],\n",
       "       [3202.95],\n",
       "       [3194.8 ],\n",
       "       [3184.6 ],\n",
       "       [3205.8 ],\n",
       "       [3216.35],\n",
       "       [3212.85],\n",
       "       [3197.55],\n",
       "       [3182.95],\n",
       "       [3197.8 ],\n",
       "       [3195.8 ],\n",
       "       [3167.45],\n",
       "       [3219.4 ],\n",
       "       [3284.9 ],\n",
       "       [3273.95],\n",
       "       [3283.95],\n",
       "       [3309.8 ],\n",
       "       [3322.7 ],\n",
       "       [3333.9 ],\n",
       "       [3344.2 ],\n",
       "       [3351.75],\n",
       "       [3463.4 ],\n",
       "       [3472.95],\n",
       "       [3553.05],\n",
       "       [3560.55],\n",
       "       [3559.5 ],\n",
       "       [3637.4 ],\n",
       "       [3613.2 ],\n",
       "       [3659.  ],\n",
       "       [3671.85],\n",
       "       [3720.15],\n",
       "       [3701.3 ],\n",
       "       [3786.45],\n",
       "       [3714.95],\n",
       "       [3836.75],\n",
       "       [3842.05],\n",
       "       [3852.  ],\n",
       "       [3815.9 ],\n",
       "       [3774.15],\n",
       "       [3791.4 ],\n",
       "       [3845.35],\n",
       "       [3885.9 ],\n",
       "       [3954.55],\n",
       "       [3903.3 ],\n",
       "       [3827.85],\n",
       "       [3823.5 ],\n",
       "       [3862.95],\n",
       "       [3862.15],\n",
       "       [3869.25],\n",
       "       [3871.3 ],\n",
       "       [3836.95],\n",
       "       [3779.15],\n",
       "       [3791.9 ],\n",
       "       [3775.55],\n",
       "       [3730.2 ],\n",
       "       [3730.2 ],\n",
       "       [3773.3 ],\n",
       "       [3833.3 ],\n",
       "       [3810.9 ],\n",
       "       [3892.9 ],\n",
       "       [3935.65],\n",
       "       [3685.6 ],\n",
       "       [3652.85],\n",
       "       [3655.2 ],\n",
       "       [3611.45],\n",
       "       [3647.15],\n",
       "       [3634.15],\n",
       "       [3608.85],\n",
       "       [3532.5 ],\n",
       "       [3498.85],\n",
       "       [3492.95],\n",
       "       [3482.6 ],\n",
       "       [3489.75],\n",
       "       [3421.65],\n",
       "       [3397.75],\n",
       "       [3476.4 ],\n",
       "       [3484.2 ],\n",
       "       [3492.25],\n",
       "       [3508.65],\n",
       "       [3502.75],\n",
       "       [3505.7 ],\n",
       "       [3484.3 ],\n",
       "       [3488.2 ],\n",
       "       [3526.05],\n",
       "       [3553.3 ],\n",
       "       [3556.4 ],\n",
       "       [3521.9 ],\n",
       "       [3475.7 ],\n",
       "       [3458.4 ],\n",
       "       [3464.25],\n",
       "       [3443.3 ],\n",
       "       [3445.9 ],\n",
       "       [3446.85],\n",
       "       [3502.  ],\n",
       "       [3529.15],\n",
       "       [3577.8 ],\n",
       "       [3642.9 ],\n",
       "       [3640.45],\n",
       "       [3536.4 ],\n",
       "       [3584.5 ],\n",
       "       [3626.9 ],\n",
       "       [3601.75],\n",
       "       [3636.8 ],\n",
       "       [3609.65],\n",
       "       [3623.8 ],\n",
       "       [3570.35],\n",
       "       [3581.6 ],\n",
       "       [3584.35],\n",
       "       [3556.9 ],\n",
       "       [3608.3 ],\n",
       "       [3630.75],\n",
       "       [3662.7 ],\n",
       "       [3670.9 ],\n",
       "       [3696.1 ],\n",
       "       [3706.55],\n",
       "       [3694.7 ],\n",
       "       [3733.75],\n",
       "       [3738.35],\n",
       "       [3817.75],\n",
       "       [3884.75],\n",
       "       [3860.95],\n",
       "       [3807.45],\n",
       "       [3853.5 ],\n",
       "       [3879.85],\n",
       "       [3915.9 ],\n",
       "       [3859.9 ],\n",
       "       [3897.9 ],\n",
       "       [3968.15],\n",
       "       [4019.15],\n",
       "       [3990.6 ],\n",
       "       [3914.65],\n",
       "       [3826.55],\n",
       "       [3833.5 ],\n",
       "       [3771.35],\n",
       "       [3769.9 ],\n",
       "       [3649.25],\n",
       "       [3690.05],\n",
       "       [3736.25],\n",
       "       [3800.65],\n",
       "       [3856.2 ],\n",
       "       [3824.6 ],\n",
       "       [3814.9 ],\n",
       "       [3779.  ],\n",
       "       [3743.45],\n",
       "       [3760.55],\n",
       "       [3770.35],\n",
       "       [3694.95],\n",
       "       [3733.75],\n",
       "       [3817.8 ],\n",
       "       [3813.1 ],\n",
       "       [3784.2 ],\n",
       "       [3793.9 ],\n",
       "       [3719.4 ],\n",
       "       [3586.4 ],\n",
       "       [3563.8 ],\n",
       "       [3401.65],\n",
       "       [3520.75],\n",
       "       [3554.2 ],\n",
       "       [3546.15],\n",
       "       [3544.4 ],\n",
       "       [3524.35],\n",
       "       [3484.9 ],\n",
       "       [3599.95],\n",
       "       [3632.6 ],\n",
       "       [3620.95],\n",
       "       [3599.15],\n",
       "       [3643.  ],\n",
       "       [3593.9 ],\n",
       "       [3655.9 ],\n",
       "       [3672.75],\n",
       "       [3626.7 ],\n",
       "       [3700.95],\n",
       "       [3712.4 ],\n",
       "       [3749.85],\n",
       "       [3707.45],\n",
       "       [3707.7 ],\n",
       "       [3705.35],\n",
       "       [3731.55],\n",
       "       [3739.95],\n",
       "       [3758.75],\n",
       "       [3770.35],\n",
       "       [3814.8 ],\n",
       "       [3755.35],\n",
       "       [3684.15],\n",
       "       [3685.65],\n",
       "       [3696.4 ],\n",
       "       [3691.1 ],\n",
       "       [3661.95],\n",
       "       [3528.05],\n",
       "       [3471.9 ],\n",
       "       [3556.8 ],\n",
       "       [3628.65],\n",
       "       [3612.55],\n",
       "       [3548.2 ],\n",
       "       [3546.3 ],\n",
       "       [3561.2 ],\n",
       "       [3584.3 ],\n",
       "       [3546.7 ],\n",
       "       [3542.4 ],\n",
       "       [3479.75],\n",
       "       [3513.4 ],\n",
       "       [3432.6 ],\n",
       "       [3445.1 ],\n",
       "       [3438.75],\n",
       "       [3412.  ],\n",
       "       [3408.65],\n",
       "       [3414.9 ],\n",
       "       [3376.8 ],\n",
       "       [3451.6 ],\n",
       "       [3448.8 ],\n",
       "       [3261.95],\n",
       "       [3293.  ],\n",
       "       [3321.75],\n",
       "       [3288.  ],\n",
       "       [3167.65],\n",
       "       [3226.95],\n",
       "       [3261.3 ],\n",
       "       [3375.25],\n",
       "       [3364.35],\n",
       "       [3355.2 ],\n",
       "       [3423.  ],\n",
       "       [3440.15],\n",
       "       [3430.95],\n",
       "       [3362.7 ],\n",
       "       [3404.15],\n",
       "       [3427.1 ],\n",
       "       [3359.9 ],\n",
       "       [3219.6 ],\n",
       "       [3210.55],\n",
       "       [3206.3 ],\n",
       "       [3142.  ],\n",
       "       [3088.9 ],\n",
       "       [3112.4 ],\n",
       "       [3211.95],\n",
       "       [3222.95],\n",
       "       [3308.8 ],\n",
       "       [3293.1 ],\n",
       "       [3314.7 ],\n",
       "       [3318.15],\n",
       "       [3290.5 ],\n",
       "       [3267.1 ],\n",
       "       [3315.1 ],\n",
       "       [3235.05],\n",
       "       [3216.3 ],\n",
       "       [3260.75],\n",
       "       [3287.85],\n",
       "       [3265.45],\n",
       "       [3113.8 ],\n",
       "       [3084.7 ],\n",
       "       [3038.75],\n",
       "       [2998.75],\n",
       "       [2994.6 ],\n",
       "       [3063.5 ],\n",
       "       [3074.25],\n",
       "       [3164.8 ],\n",
       "       [3177.3 ],\n",
       "       [3171.  ],\n",
       "       [3171.  ],\n",
       "       [3166.75],\n",
       "       [3115.9 ],\n",
       "       [3188.85],\n",
       "       [3260.5 ],\n",
       "       [3301.9 ],\n",
       "       [3298.8 ],\n",
       "       [3291.8 ],\n",
       "       [3339.5 ],\n",
       "       [3354.95],\n",
       "       [3365.05],\n",
       "       [3365.05],\n",
       "       [3374.45],\n",
       "       [3354.25],\n",
       "       [3422.5 ],\n",
       "       [3401.55],\n",
       "       [3392.7 ],\n",
       "       [3401.1 ],\n",
       "       [3381.25],\n",
       "       [3385.75],\n",
       "       [3354.55],\n",
       "       [3284.6 ],\n",
       "       [3255.35],\n",
       "       [3218.2 ],\n",
       "       [3222.2 ],\n",
       "       [3132.55],\n",
       "       [3211.15],\n",
       "       [3131.7 ],\n",
       "       [3130.4 ],\n",
       "       [3133.4 ],\n",
       "       [3127.05],\n",
       "       [3149.6 ],\n",
       "       [3169.65],\n",
       "       [3217.65],\n",
       "       [3242.95],\n",
       "       [3229.35],\n",
       "       [3120.4 ],\n",
       "       [3104.35],\n",
       "       [3008.7 ],\n",
       "       [3028.8 ],\n",
       "       [3040.3 ],\n",
       "       [3001.2 ],\n",
       "       [3007.4 ],\n",
       "       [2982.05],\n",
       "       [2994.4 ],\n",
       "       [3017.45],\n",
       "       [3035.65],\n",
       "       [2997.3 ],\n",
       "       [3004.55],\n",
       "       [3004.55],\n",
       "       [2984.95],\n",
       "       [3091.15],\n",
       "       [3101.95],\n",
       "       [3064.9 ],\n",
       "       [3118.55],\n",
       "       [3069.55],\n",
       "       [3100.75],\n",
       "       [3103.3 ],\n",
       "       [3099.15],\n",
       "       [3111.75],\n",
       "       [3144.7 ],\n",
       "       [3121.85],\n",
       "       [3157.3 ],\n",
       "       [3137.4 ],\n",
       "       [3161.7 ],\n",
       "       [3161.7 ],\n",
       "       [3162.1 ],\n",
       "       [3157.4 ],\n",
       "       [3163.25],\n",
       "       [3193.15],\n",
       "       [3259.7 ],\n",
       "       [3241.7 ],\n",
       "       [3206.75],\n",
       "       [3217.4 ],\n",
       "       [3233.7 ],\n",
       "       [3216.05],\n",
       "       [3205.65],\n",
       "       [3315.95],\n",
       "       [3315.95],\n",
       "       [3335.5 ],\n",
       "       [3332.6 ],\n",
       "       [3355.35],\n",
       "       [3349.  ],\n",
       "       [3343.45],\n",
       "       [3283.5 ],\n",
       "       [3314.95],\n",
       "       [3308.3 ],\n",
       "       [3380.15],\n",
       "       [3389.65],\n",
       "       [3395.25],\n",
       "       [3397.35],\n",
       "       [3390.8 ],\n",
       "       [3475.65],\n",
       "       [3439.15],\n",
       "       [3425.9 ],\n",
       "       [3385.35],\n",
       "       [3380.6 ]])"
      ]
     },
     "execution_count": 77,
     "metadata": {},
     "output_type": "execute_result"
    }
   ],
   "source": [
    "df_array = np.array(tcs_close)\n",
    "df_array"
   ]
  },
  {
   "cell_type": "code",
   "execution_count": 78,
   "id": "f43dec6b-0c13-45b9-a9f4-fca6d0c94abb",
   "metadata": {},
   "outputs": [],
   "source": [
    "full_data = pd.DataFrame(np.concatenate((df_array.flatten(), forecast.flatten())))"
   ]
  },
  {
   "cell_type": "code",
   "execution_count": 79,
   "id": "7612cc1a-09a5-4d37-b4ca-19403bcc0131",
   "metadata": {},
   "outputs": [
    {
     "data": {
      "text/plain": [
       "<AxesSubplot:>"
      ]
     },
     "execution_count": 79,
     "metadata": {},
     "output_type": "execute_result"
    },
    {
     "data": {
      "image/png": "[encoded data removed]",
      "text/plain": [
       "<Figure size 640x480 with 1 Axes>"
      ]
     },
     "metadata": {},
     "output_type": "display_data"
    }
   ],
   "source": [
    "full_data.plot()"
   ]
  },
  {
   "cell_type": "markdown",
   "id": "7719eab1-9f7a-4e82-b2e9-7f50ffa6882d",
   "metadata": {},
   "source": [
    "## LSTM Model"
   ]
  },
  {
   "cell_type": "code",
   "execution_count": 81,
   "id": "3d5ccff2-da43-4582-853b-03e58cb3806b",
   "metadata": {},
   "outputs": [],
   "source": [
    "from tensorflow.keras.callbacks import EarlyStopping\n",
    "early_stop = EarlyStopping(monitor='val_loss', patience=2)"
   ]
  },
  {
   "cell_type": "code",
   "execution_count": 82,
   "id": "a5d46075-b6ea-400a-914e-f12224d84d17",
   "metadata": {},
   "outputs": [
    {
     "data": {
      "text/plain": [
       "16"
      ]
     },
     "execution_count": 82,
     "metadata": {},
     "output_type": "execute_result"
    }
   ],
   "source": [
    "length"
   ]
  },
  {
   "cell_type": "code",
   "execution_count": 83,
   "id": "a480e0df-065f-49ba-8b18-cdcdbc9846ae",
   "metadata": {},
   "outputs": [
    {
     "data": {
      "text/plain": [
       "(16, 1)"
      ]
     },
     "execution_count": 83,
     "metadata": {},
     "output_type": "execute_result"
    }
   ],
   "source": [
    "scaled_test.shape"
   ]
  },
  {
   "cell_type": "code",
   "execution_count": 84,
   "id": "62a31da0-d32f-4cb1-8dde-9a5386fc80ed",
   "metadata": {},
   "outputs": [],
   "source": [
    "length = 15\n",
    "generator = TimeseriesGenerator(scaled_train, scaled_train, length=length, batch_size=32)\n",
    "\n",
    "validation_generator = TimeseriesGenerator(scaled_test,scaled_test, length=length, batch_size=32)"
   ]
  },
  {
   "cell_type": "code",
   "execution_count": 85,
   "id": "7695be62-d0de-45a0-8559-6cec62233e31",
   "metadata": {},
   "outputs": [],
   "source": [
    "model = Sequential()\n",
    "\n",
    "model.add(LSTM(30,input_shape=(length,n_features)))\n",
    "model.add(Dropout(rate=0.2))\n",
    "model.add(Dense(1))\n",
    "model.compile(optimizer='adam',loss='mse')"
   ]
  },
  {
   "cell_type": "code",
   "execution_count": 86,
   "id": "2e0d74b4-8f9e-4616-ae31-46a183fcfcd7",
   "metadata": {},
   "outputs": [
    {
     "name": "stdout",
     "output_type": "stream",
     "text": [
      "Epoch 1/20\n"
     ]
    },
    {
     "name": "stderr",
     "output_type": "stream",
     "text": [
      "C:\\Users\\vijai\\AppData\\Local\\Temp\\ipykernel_6924\\2777817136.py:1: UserWarning: `Model.fit_generator` is deprecated and will be removed in a future version. Please use `Model.fit`, which supports generators.\n",
      "  model.fit_generator(generator,epochs=20,validation_data=validation_generator,callbacks=[early_stop],shuffle=False)\n"
     ]
    },
    {
     "name": "stdout",
     "output_type": "stream",
     "text": [
      "15/15 [==============================] - 4s 57ms/step - loss: 0.1231 - val_loss: 0.0164\n",
      "Epoch 2/20\n",
      "15/15 [==============================] - 0s 13ms/step - loss: 0.0188 - val_loss: 0.0102\n",
      "Epoch 3/20\n",
      "15/15 [==============================] - 0s 12ms/step - loss: 0.0162 - val_loss: 5.0914e-05\n",
      "Epoch 4/20\n",
      "15/15 [==============================] - 0s 13ms/step - loss: 0.0152 - val_loss: 9.8525e-05\n",
      "Epoch 5/20\n",
      "15/15 [==============================] - 0s 13ms/step - loss: 0.0114 - val_loss: 0.0010\n"
     ]
    },
    {
     "data": {
      "text/plain": [
       "<keras.callbacks.History at 0x1eee6053880>"
      ]
     },
     "execution_count": 86,
     "metadata": {},
     "output_type": "execute_result"
    }
   ],
   "source": [
    "model.fit_generator(generator,epochs=20,validation_data=validation_generator,callbacks=[early_stop],shuffle=False)"
   ]
  },
  {
   "cell_type": "code",
   "execution_count": 87,
   "id": "2d01d694-e6f0-46ea-8494-af8bd80d1a20",
   "metadata": {},
   "outputs": [
    {
     "data": {
      "text/plain": [
       "<AxesSubplot:>"
      ]
     },
     "execution_count": 87,
     "metadata": {},
     "output_type": "execute_result"
    },
    {
     "data": {
      "image/png": "[encoded data removed]",
      "text/plain": [
       "<Figure size 640x480 with 1 Axes>"
      ]
     },
     "metadata": {},
     "output_type": "display_data"
    }
   ],
   "source": [
    "losses = pd.DataFrame(model.history.history)\n",
    "losses.plot()"
   ]
  },
  {
   "cell_type": "code",
   "execution_count": 88,
   "id": "24178189-636b-48cb-bd38-492b6a87addb",
   "metadata": {},
   "outputs": [
    {
     "name": "stdout",
     "output_type": "stream",
     "text": [
      "1/1 [==============================] - 1s 762ms/step\n",
      "1/1 [==============================] - 0s 47ms/step\n",
      "1/1 [==============================] - 0s 41ms/step\n",
      "1/1 [==============================] - 0s 35ms/step\n",
      "1/1 [==============================] - 0s 30ms/step\n",
      "1/1 [==============================] - 0s 33ms/step\n",
      "1/1 [==============================] - 0s 30ms/step\n",
      "1/1 [==============================] - 0s 43ms/step\n",
      "1/1 [==============================] - 0s 30ms/step\n",
      "1/1 [==============================] - 0s 29ms/step\n",
      "1/1 [==============================] - 0s 32ms/step\n",
      "1/1 [==============================] - 0s 34ms/step\n",
      "1/1 [==============================] - 0s 36ms/step\n",
      "1/1 [==============================] - 0s 29ms/step\n",
      "1/1 [==============================] - 0s 26ms/step\n",
      "1/1 [==============================] - 0s 27ms/step\n"
     ]
    }
   ],
   "source": [
    "test_predictions = []\n",
    "\n",
    "first_eval_batch = scaled_train[-length:]\n",
    "current_batch = first_eval_batch.reshape((1,length,n_features))\n",
    "\n",
    "for i in range(len(test)):\n",
    "    # Get prediction 1 time stamp ahead ([0] is for grabbing just the number instead of [array])\n",
    "    current_pred = model.predict(current_batch)[0]\n",
    "    \n",
    "    #store prediction\n",
    "    test_predictions.append(current_pred)\n",
    "    \n",
    "    #update batch to include prediction and drop first value\n",
    "    current_batch = np.append(current_batch[:,1:,:],[[current_pred]],axis=1)"
   ]
  },
  {
   "cell_type": "code",
   "execution_count": 89,
   "id": "2d9471c8-e1bc-44b0-a573-7d46e1550220",
   "metadata": {},
   "outputs": [
    {
     "name": "stderr",
     "output_type": "stream",
     "text": [
      "C:\\Users\\vijai\\AppData\\Local\\Temp\\ipykernel_6924\\1875609471.py:2: SettingWithCopyWarning: \n",
      "A value is trying to be set on a copy of a slice from a DataFrame.\n",
      "Try using .loc[row_indexer,col_indexer] = value instead\n",
      "\n",
      "See the caveats in the documentation: https://pandas.pydata.org/pandas-docs/stable/user_guide/indexing.html#returning-a-view-versus-a-copy\n",
      "  test['LSTM_predictions'] = true_predictions\n"
     ]
    },
    {
     "data": {
      "text/plain": [
       "<AxesSubplot:>"
      ]
     },
     "execution_count": 89,
     "metadata": {},
     "output_type": "execute_result"
    },
    {
     "data": {
      "image/png": "[encoded data removed]",
      "text/plain": [
       "<Figure size 1200x800 with 1 Axes>"
      ]
     },
     "metadata": {},
     "output_type": "display_data"
    }
   ],
   "source": [
    "true_predictions = scaler.inverse_transform(test_predictions)\n",
    "test['LSTM_predictions'] = true_predictions\n",
    "test.plot(figsize=(12,8))"
   ]
  },
  {
   "cell_type": "code",
   "execution_count": 90,
   "id": "a83db63c-c80a-4df0-ad27-085fc16380db",
   "metadata": {},
   "outputs": [
    {
     "name": "stdout",
     "output_type": "stream",
     "text": [
      "1/1 [==============================] - 0s 40ms/step\n",
      "1/1 [==============================] - 0s 52ms/step\n",
      "1/1 [==============================] - 0s 28ms/step\n",
      "1/1 [==============================] - 0s 27ms/step\n",
      "1/1 [==============================] - 0s 28ms/step\n",
      "1/1 [==============================] - 0s 28ms/step\n",
      "1/1 [==============================] - 0s 30ms/step\n",
      "1/1 [==============================] - 0s 30ms/step\n",
      "1/1 [==============================] - 0s 27ms/step\n",
      "1/1 [==============================] - 0s 28ms/step\n",
      "1/1 [==============================] - 0s 28ms/step\n",
      "1/1 [==============================] - 0s 28ms/step\n",
      "1/1 [==============================] - 0s 29ms/step\n",
      "1/1 [==============================] - 0s 29ms/step\n",
      "1/1 [==============================] - 0s 28ms/step\n"
     ]
    }
   ],
   "source": [
    "forecast = []\n",
    "\n",
    "first_eval_batch = scaled_train[-length:]\n",
    "current_batch = first_eval_batch.reshape((1,length,n_features))\n",
    "\n",
    "for i in range(15):\n",
    "    #get prediction 1 time stamp ahead ([0] is for grabbing just the number instead of [array])\n",
    "    current_pred = model.predict(current_batch)[0]\n",
    "    \n",
    "    #store prediction\n",
    "    forecast.append(current_pred)\n",
    "    \n",
    "    #update batch to now include prediction and drop first value\n",
    "    current_batch = np.append(current_batch[:,1:,:],[[current_pred]],axis=1)"
   ]
  },
  {
   "cell_type": "code",
   "execution_count": 91,
   "id": "494709da-29ed-44ee-b25f-9f0435f5dfbe",
   "metadata": {},
   "outputs": [],
   "source": [
    "forecast = scaler.inverse_transform(forecast)"
   ]
  },
  {
   "cell_type": "code",
   "execution_count": 92,
   "id": "ce14c521-5779-485e-801e-db9b8473429e",
   "metadata": {},
   "outputs": [],
   "source": [
    "full_data = pd.DataFrame(np.concatenate((df_array.flatten(), forecast.flatten())))"
   ]
  },
  {
   "cell_type": "code",
   "execution_count": 93,
   "id": "6f2135c7-354a-4bc0-89ab-243f2e4d6467",
   "metadata": {},
   "outputs": [
    {
     "data": {
      "text/plain": [
       "<AxesSubplot:>"
      ]
     },
     "execution_count": 93,
     "metadata": {},
     "output_type": "execute_result"
    },
    {
     "data": {
      "image/png": "[encoded data removed]",
      "text/plain": [
       "<Figure size 640x480 with 1 Axes>"
      ]
     },
     "metadata": {},
     "output_type": "display_data"
    }
   ],
   "source": [
    "full_data.plot()"
   ]
  },
  {
   "cell_type": "code",
   "execution_count": 94,
   "id": "d6e62314-c5ed-4c28-9116-3c96c6b02367",
   "metadata": {},
   "outputs": [
    {
     "data": {
      "text/plain": [
       "array([[3314.19042086],\n",
       "       [3322.31717353],\n",
       "       [3330.08709663],\n",
       "       [3337.38241422],\n",
       "       [3344.07359424],\n",
       "       [3349.92365553],\n",
       "       [3355.80634105],\n",
       "       [3361.84800261],\n",
       "       [3367.59140095],\n",
       "       [3373.01012939],\n",
       "       [3378.4417217 ],\n",
       "       [3383.79641663],\n",
       "       [3387.95355632],\n",
       "       [3392.09029248],\n",
       "       [3396.00251829]])"
      ]
     },
     "execution_count": 94,
     "metadata": {},
     "output_type": "execute_result"
    }
   ],
   "source": [
    "forecast"
   ]
  },
  {
   "cell_type": "code",
   "execution_count": 95,
   "id": "8d5e8b53-de9f-4c7e-9ff3-73ff0c7cebbd",
   "metadata": {},
   "outputs": [
    {
     "data": {
      "text/html": [
       "<div>\n",
       "<style scoped>\n",
       "    .dataframe tbody tr th:only-of-type {\n",
       "        vertical-align: middle;\n",
       "    }\n",
       "\n",
       "    .dataframe tbody tr th {\n",
       "        vertical-align: top;\n",
       "    }\n",
       "\n",
       "    .dataframe thead th {\n",
       "        text-align: right;\n",
       "    }\n",
       "</style>\n",
       "<table border=\"1\" class=\"dataframe\">\n",
       "  <thead>\n",
       "    <tr style=\"text-align: right;\">\n",
       "      <th></th>\n",
       "      <th>0</th>\n",
       "    </tr>\n",
       "  </thead>\n",
       "  <tbody>\n",
       "    <tr>\n",
       "      <th>481</th>\n",
       "      <td>3349.000000</td>\n",
       "    </tr>\n",
       "    <tr>\n",
       "      <th>482</th>\n",
       "      <td>3343.450000</td>\n",
       "    </tr>\n",
       "    <tr>\n",
       "      <th>483</th>\n",
       "      <td>3283.500000</td>\n",
       "    </tr>\n",
       "    <tr>\n",
       "      <th>484</th>\n",
       "      <td>3314.950000</td>\n",
       "    </tr>\n",
       "    <tr>\n",
       "      <th>485</th>\n",
       "      <td>3308.300000</td>\n",
       "    </tr>\n",
       "    <tr>\n",
       "      <th>486</th>\n",
       "      <td>3380.150000</td>\n",
       "    </tr>\n",
       "    <tr>\n",
       "      <th>487</th>\n",
       "      <td>3389.650000</td>\n",
       "    </tr>\n",
       "    <tr>\n",
       "      <th>488</th>\n",
       "      <td>3395.250000</td>\n",
       "    </tr>\n",
       "    <tr>\n",
       "      <th>489</th>\n",
       "      <td>3397.350000</td>\n",
       "    </tr>\n",
       "    <tr>\n",
       "      <th>490</th>\n",
       "      <td>3390.800000</td>\n",
       "    </tr>\n",
       "    <tr>\n",
       "      <th>491</th>\n",
       "      <td>3475.650000</td>\n",
       "    </tr>\n",
       "    <tr>\n",
       "      <th>492</th>\n",
       "      <td>3439.150000</td>\n",
       "    </tr>\n",
       "    <tr>\n",
       "      <th>493</th>\n",
       "      <td>3425.900000</td>\n",
       "    </tr>\n",
       "    <tr>\n",
       "      <th>494</th>\n",
       "      <td>3385.350000</td>\n",
       "    </tr>\n",
       "    <tr>\n",
       "      <th>495</th>\n",
       "      <td>3380.600000</td>\n",
       "    </tr>\n",
       "    <tr>\n",
       "      <th>496</th>\n",
       "      <td>3314.190421</td>\n",
       "    </tr>\n",
       "    <tr>\n",
       "      <th>497</th>\n",
       "      <td>3322.317174</td>\n",
       "    </tr>\n",
       "    <tr>\n",
       "      <th>498</th>\n",
       "      <td>3330.087097</td>\n",
       "    </tr>\n",
       "    <tr>\n",
       "      <th>499</th>\n",
       "      <td>3337.382414</td>\n",
       "    </tr>\n",
       "    <tr>\n",
       "      <th>500</th>\n",
       "      <td>3344.073594</td>\n",
       "    </tr>\n",
       "    <tr>\n",
       "      <th>501</th>\n",
       "      <td>3349.923656</td>\n",
       "    </tr>\n",
       "    <tr>\n",
       "      <th>502</th>\n",
       "      <td>3355.806341</td>\n",
       "    </tr>\n",
       "    <tr>\n",
       "      <th>503</th>\n",
       "      <td>3361.848003</td>\n",
       "    </tr>\n",
       "    <tr>\n",
       "      <th>504</th>\n",
       "      <td>3367.591401</td>\n",
       "    </tr>\n",
       "    <tr>\n",
       "      <th>505</th>\n",
       "      <td>3373.010129</td>\n",
       "    </tr>\n",
       "    <tr>\n",
       "      <th>506</th>\n",
       "      <td>3378.441722</td>\n",
       "    </tr>\n",
       "    <tr>\n",
       "      <th>507</th>\n",
       "      <td>3383.796417</td>\n",
       "    </tr>\n",
       "    <tr>\n",
       "      <th>508</th>\n",
       "      <td>3387.953556</td>\n",
       "    </tr>\n",
       "    <tr>\n",
       "      <th>509</th>\n",
       "      <td>3392.090292</td>\n",
       "    </tr>\n",
       "    <tr>\n",
       "      <th>510</th>\n",
       "      <td>3396.002518</td>\n",
       "    </tr>\n",
       "  </tbody>\n",
       "</table>\n",
       "</div>"
      ],
      "text/plain": [
       "               0\n",
       "481  3349.000000\n",
       "482  3343.450000\n",
       "483  3283.500000\n",
       "484  3314.950000\n",
       "485  3308.300000\n",
       "486  3380.150000\n",
       "487  3389.650000\n",
       "488  3395.250000\n",
       "489  3397.350000\n",
       "490  3390.800000\n",
       "491  3475.650000\n",
       "492  3439.150000\n",
       "493  3425.900000\n",
       "494  3385.350000\n",
       "495  3380.600000\n",
       "496  3314.190421\n",
       "497  3322.317174\n",
       "498  3330.087097\n",
       "499  3337.382414\n",
       "500  3344.073594\n",
       "501  3349.923656\n",
       "502  3355.806341\n",
       "503  3361.848003\n",
       "504  3367.591401\n",
       "505  3373.010129\n",
       "506  3378.441722\n",
       "507  3383.796417\n",
       "508  3387.953556\n",
       "509  3392.090292\n",
       "510  3396.002518"
      ]
     },
     "execution_count": 95,
     "metadata": {},
     "output_type": "execute_result"
    }
   ],
   "source": [
    "full_data.tail(30)"
   ]
  },
  {
   "cell_type": "markdown",
   "id": "fa93a68e-8b67-4100-a2b3-37e453dc04b4",
   "metadata": {},
   "source": [
    "## FB Prophet model"
   ]
  },
  {
   "cell_type": "code",
   "execution_count": 96,
   "id": "f6d6cf93-46a5-404a-a548-325b57cff201",
   "metadata": {},
   "outputs": [],
   "source": [
    "df.reset_index(inplace=True)"
   ]
  },
  {
   "cell_type": "code",
   "execution_count": 97,
   "id": "d82289c8-2afc-45be-a1bb-08acc2eb4903",
   "metadata": {},
   "outputs": [],
   "source": [
    "data = df[['Date','close']]"
   ]
  },
  {
   "cell_type": "code",
   "execution_count": 98,
   "id": "fa484396-d28d-46c5-b910-4240830f4aa0",
   "metadata": {},
   "outputs": [
    {
     "data": {
      "text/html": [
       "<div>\n",
       "<style scoped>\n",
       "    .dataframe tbody tr th:only-of-type {\n",
       "        vertical-align: middle;\n",
       "    }\n",
       "\n",
       "    .dataframe tbody tr th {\n",
       "        vertical-align: top;\n",
       "    }\n",
       "\n",
       "    .dataframe thead th {\n",
       "        text-align: right;\n",
       "    }\n",
       "</style>\n",
       "<table border=\"1\" class=\"dataframe\">\n",
       "  <thead>\n",
       "    <tr style=\"text-align: right;\">\n",
       "      <th></th>\n",
       "      <th>Date</th>\n",
       "      <th>close</th>\n",
       "    </tr>\n",
       "  </thead>\n",
       "  <tbody>\n",
       "    <tr>\n",
       "      <th>0</th>\n",
       "      <td>2020-12-17</td>\n",
       "      <td>2838.20</td>\n",
       "    </tr>\n",
       "    <tr>\n",
       "      <th>1</th>\n",
       "      <td>2020-12-18</td>\n",
       "      <td>2861.00</td>\n",
       "    </tr>\n",
       "    <tr>\n",
       "      <th>2</th>\n",
       "      <td>2020-12-21</td>\n",
       "      <td>2820.15</td>\n",
       "    </tr>\n",
       "    <tr>\n",
       "      <th>3</th>\n",
       "      <td>2020-12-22</td>\n",
       "      <td>2872.50</td>\n",
       "    </tr>\n",
       "    <tr>\n",
       "      <th>4</th>\n",
       "      <td>2020-12-23</td>\n",
       "      <td>2908.75</td>\n",
       "    </tr>\n",
       "  </tbody>\n",
       "</table>\n",
       "</div>"
      ],
      "text/plain": [
       "        Date    close\n",
       "0 2020-12-17  2838.20\n",
       "1 2020-12-18  2861.00\n",
       "2 2020-12-21  2820.15\n",
       "3 2020-12-22  2872.50\n",
       "4 2020-12-23  2908.75"
      ]
     },
     "execution_count": 98,
     "metadata": {},
     "output_type": "execute_result"
    }
   ],
   "source": [
    "data.head()"
   ]
  },
  {
   "cell_type": "code",
   "execution_count": null,
   "id": "cf4e3762-9ae2-47d5-9b64-761c4fee7ddb",
   "metadata": {},
   "outputs": [],
   "source": [
    "from fbprophet import Prophet\n",
    "m = Prophet(changepoint_prior_scale=0.15, daily_seasonality = True) # The prophet class model\n",
    "m.fit(data) # fit the model using all data"
   ]
  },
  {
   "cell_type": "code",
   "execution_count": null,
   "id": "40046e87-82ea-4f04-92b4-9a9dcf47b16a",
   "metadata": {},
   "outputs": [],
   "source": [
    "future = m.make_future_dataframe(periods=21) # We need to specify the number of days in future\n",
    "prediction = m.predict(future)\n",
    "m.plot(prediction)\n",
    "plt.title(\"Prediction of the Google Stock Price using the Prophet\")\n",
    "plt.xlabel(\"Date\")\n",
    "plt.ylabel(\"Close Stock Price\")\n",
    "plt.show()"
   ]
  },
  {
   "cell_type": "code",
   "execution_count": null,
   "id": "f7fcd695-0624-46b8-8f64-bf031d1e576d",
   "metadata": {},
   "outputs": [],
   "source": [
    "m.plot_components(prediction)\n",
    "plt.show()"
   ]
  },
  {
   "cell_type": "code",
   "execution_count": null,
   "id": "35ac36c4-6f65-43f8-bcc5-0a47b6a2e9b7",
   "metadata": {},
   "outputs": [],
   "source": []
  }
 ],
 "metadata": {
  "kernelspec": {
   "display_name": "Python 3 (ipykernel)",
   "language": "python",
   "name": "python3"
  },
  "language_info": {
   "codemirror_mode": {
    "name": "ipython",
    "version": 3
   },
   "file_extension": ".py",
   "mimetype": "text/x-python",
   "name": "python",
   "nbconvert_exporter": "python",
   "pygments_lexer": "ipython3",
   "version": "3.9.13"
  }
 },
 "nbformat": 4,
 "nbformat_minor": 5
}
