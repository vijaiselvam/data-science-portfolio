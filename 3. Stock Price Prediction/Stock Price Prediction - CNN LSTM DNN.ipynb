{
 "cells": [
  {
   "cell_type": "code",
   "execution_count": 103,
   "id": "a31ce6b4-a667-49da-89e1-de2f1f8c16a8",
   "metadata": {},
   "outputs": [],
   "source": [
    "import pandas as pd\n",
    "import numpy as np\n",
    "import matplotlib.pyplot as plt\n",
    "import tensorflow as tf"
   ]
  },
  {
   "cell_type": "code",
   "execution_count": 104,
   "id": "ea70befc-0261-466c-9d81-1c4ede2dca08",
   "metadata": {},
   "outputs": [],
   "source": [
    "df = pd.read_csv('historyprice.csv', parse_dates=True, index_col='Date')"
   ]
  },
  {
   "cell_type": "code",
   "execution_count": 105,
   "id": "578484bf-c017-4ad3-9fde-532b800adc64",
   "metadata": {},
   "outputs": [
    {
     "data": {
      "text/html": [
       "<div>\n",
       "<style scoped>\n",
       "    .dataframe tbody tr th:only-of-type {\n",
       "        vertical-align: middle;\n",
       "    }\n",
       "\n",
       "    .dataframe tbody tr th {\n",
       "        vertical-align: top;\n",
       "    }\n",
       "\n",
       "    .dataframe thead th {\n",
       "        text-align: right;\n",
       "    }\n",
       "</style>\n",
       "<table border=\"1\" class=\"dataframe\">\n",
       "  <thead>\n",
       "    <tr style=\"text-align: right;\">\n",
       "      <th></th>\n",
       "      <th>Prev Close</th>\n",
       "      <th>OPEN</th>\n",
       "      <th>HIGH</th>\n",
       "      <th>LOW</th>\n",
       "      <th>Last Price</th>\n",
       "      <th>close</th>\n",
       "      <th>Average Price</th>\n",
       "      <th>Total Traded Quantity</th>\n",
       "      <th>Turnover</th>\n",
       "      <th>No. of Trades</th>\n",
       "      <th>Deliverable Qty</th>\n",
       "      <th>% Dly Qt to Traded Qty</th>\n",
       "    </tr>\n",
       "    <tr>\n",
       "      <th>Date</th>\n",
       "      <th></th>\n",
       "      <th></th>\n",
       "      <th></th>\n",
       "      <th></th>\n",
       "      <th></th>\n",
       "      <th></th>\n",
       "      <th></th>\n",
       "      <th></th>\n",
       "      <th></th>\n",
       "      <th></th>\n",
       "      <th></th>\n",
       "      <th></th>\n",
       "    </tr>\n",
       "  </thead>\n",
       "  <tbody>\n",
       "    <tr>\n",
       "      <th>2020-12-17</th>\n",
       "      <td>2814.20</td>\n",
       "      <td>2811.00</td>\n",
       "      <td>2853.70</td>\n",
       "      <td>2805.00</td>\n",
       "      <td>2848.70</td>\n",
       "      <td>2838.20</td>\n",
       "      <td>2823.94</td>\n",
       "      <td>2863460</td>\n",
       "      <td>8.086237e+09</td>\n",
       "      <td>121983</td>\n",
       "      <td>1423130</td>\n",
       "      <td>49.7</td>\n",
       "    </tr>\n",
       "    <tr>\n",
       "      <th>2020-12-18</th>\n",
       "      <td>2838.20</td>\n",
       "      <td>2868.00</td>\n",
       "      <td>2898.00</td>\n",
       "      <td>2846.20</td>\n",
       "      <td>2851.95</td>\n",
       "      <td>2861.00</td>\n",
       "      <td>2873.74</td>\n",
       "      <td>6076692</td>\n",
       "      <td>1.746284e+10</td>\n",
       "      <td>178840</td>\n",
       "      <td>2436219</td>\n",
       "      <td>40.09</td>\n",
       "    </tr>\n",
       "    <tr>\n",
       "      <th>2020-12-21</th>\n",
       "      <td>2861.00</td>\n",
       "      <td>2861.00</td>\n",
       "      <td>2886.50</td>\n",
       "      <td>2785.00</td>\n",
       "      <td>2810.00</td>\n",
       "      <td>2820.15</td>\n",
       "      <td>2853.21</td>\n",
       "      <td>2705195</td>\n",
       "      <td>7.718476e+09</td>\n",
       "      <td>141821</td>\n",
       "      <td>887083</td>\n",
       "      <td>32.79</td>\n",
       "    </tr>\n",
       "    <tr>\n",
       "      <th>2020-12-22</th>\n",
       "      <td>2820.15</td>\n",
       "      <td>2834.00</td>\n",
       "      <td>2883.65</td>\n",
       "      <td>2818.65</td>\n",
       "      <td>2870.65</td>\n",
       "      <td>2872.50</td>\n",
       "      <td>2848.13</td>\n",
       "      <td>2881737</td>\n",
       "      <td>8.207569e+09</td>\n",
       "      <td>158517</td>\n",
       "      <td>1123581</td>\n",
       "      <td>38.99</td>\n",
       "    </tr>\n",
       "    <tr>\n",
       "      <th>2020-12-23</th>\n",
       "      <td>2872.50</td>\n",
       "      <td>2876.05</td>\n",
       "      <td>2919.00</td>\n",
       "      <td>2865.45</td>\n",
       "      <td>2907.15</td>\n",
       "      <td>2908.75</td>\n",
       "      <td>2904.67</td>\n",
       "      <td>2790988</td>\n",
       "      <td>8.106912e+09</td>\n",
       "      <td>125341</td>\n",
       "      <td>947547</td>\n",
       "      <td>33.95</td>\n",
       "    </tr>\n",
       "  </tbody>\n",
       "</table>\n",
       "</div>"
      ],
      "text/plain": [
       "            Prev Close     OPEN     HIGH      LOW  Last Price    close  \\\n",
       "Date                                                                     \n",
       "2020-12-17     2814.20  2811.00  2853.70  2805.00     2848.70  2838.20   \n",
       "2020-12-18     2838.20  2868.00  2898.00  2846.20     2851.95  2861.00   \n",
       "2020-12-21     2861.00  2861.00  2886.50  2785.00     2810.00  2820.15   \n",
       "2020-12-22     2820.15  2834.00  2883.65  2818.65     2870.65  2872.50   \n",
       "2020-12-23     2872.50  2876.05  2919.00  2865.45     2907.15  2908.75   \n",
       "\n",
       "            Average Price  Total Traded Quantity      Turnover  No. of Trades  \\\n",
       "Date                                                                            \n",
       "2020-12-17        2823.94                2863460  8.086237e+09         121983   \n",
       "2020-12-18        2873.74                6076692  1.746284e+10         178840   \n",
       "2020-12-21        2853.21                2705195  7.718476e+09         141821   \n",
       "2020-12-22        2848.13                2881737  8.207569e+09         158517   \n",
       "2020-12-23        2904.67                2790988  8.106912e+09         125341   \n",
       "\n",
       "           Deliverable Qty % Dly Qt to Traded Qty  \n",
       "Date                                               \n",
       "2020-12-17         1423130                   49.7  \n",
       "2020-12-18         2436219                  40.09  \n",
       "2020-12-21          887083                  32.79  \n",
       "2020-12-22         1123581                  38.99  \n",
       "2020-12-23          947547                  33.95  "
      ]
     },
     "execution_count": 105,
     "metadata": {},
     "output_type": "execute_result"
    }
   ],
   "source": [
    "df.head()"
   ]
  },
  {
   "cell_type": "code",
   "execution_count": 106,
   "id": "44236675-36e1-475d-bb87-080e889aad66",
   "metadata": {},
   "outputs": [
    {
     "name": "stdout",
     "output_type": "stream",
     "text": [
      "<class 'pandas.core.frame.DataFrame'>\n",
      "DatetimeIndex: 496 entries, 2020-12-17 to 2022-12-07\n",
      "Data columns (total 12 columns):\n",
      " #   Column                  Non-Null Count  Dtype  \n",
      "---  ------                  --------------  -----  \n",
      " 0   Prev Close              496 non-null    float64\n",
      " 1   OPEN                    496 non-null    float64\n",
      " 2   HIGH                    496 non-null    float64\n",
      " 3   LOW                     496 non-null    float64\n",
      " 4   Last Price              496 non-null    float64\n",
      " 5   close                   496 non-null    float64\n",
      " 6   Average Price           496 non-null    float64\n",
      " 7   Total Traded Quantity   496 non-null    int64  \n",
      " 8   Turnover                496 non-null    float64\n",
      " 9   No. of Trades           496 non-null    int64  \n",
      " 10  Deliverable Qty         496 non-null    object \n",
      " 11  % Dly Qt to Traded Qty  496 non-null    object \n",
      "dtypes: float64(8), int64(2), object(2)\n",
      "memory usage: 50.4+ KB\n"
     ]
    }
   ],
   "source": [
    "df.info()"
   ]
  },
  {
   "cell_type": "code",
   "execution_count": 107,
   "id": "b69d090b-f93f-43ad-ab00-5ed7c7e029ae",
   "metadata": {},
   "outputs": [
    {
     "data": {
      "text/plain": [
       "<AxesSubplot:xlabel='Date'>"
      ]
     },
     "execution_count": 107,
     "metadata": {},
     "output_type": "execute_result"
    },
    {
     "data": {
      "image/png": "[encoded data removed]",
      "text/plain": [
       "<Figure size 640x480 with 1 Axes>"
      ]
     },
     "metadata": {},
     "output_type": "display_data"
    }
   ],
   "source": [
    "df['close'].plot()"
   ]
  },
  {
   "cell_type": "code",
   "execution_count": 108,
   "id": "c7d34073-3dc0-4061-bebd-c03e6a332ff7",
   "metadata": {},
   "outputs": [
    {
     "data": {
      "text/plain": [
       "496"
      ]
     },
     "execution_count": 108,
     "metadata": {},
     "output_type": "execute_result"
    }
   ],
   "source": [
    "len(df)"
   ]
  },
  {
   "cell_type": "code",
   "execution_count": 109,
   "id": "c1f3168e-248a-4a12-99be-89dbfd557cb0",
   "metadata": {},
   "outputs": [],
   "source": [
    "tcs_close = df['close']"
   ]
  },
  {
   "cell_type": "code",
   "execution_count": 110,
   "id": "1b3a11a2-aebd-4eac-a4cd-832bde11394b",
   "metadata": {},
   "outputs": [
    {
     "data": {
      "text/plain": [
       "(496,)"
      ]
     },
     "execution_count": 110,
     "metadata": {},
     "output_type": "execute_result"
    }
   ],
   "source": [
    "tcs_close.reset_index(drop=True,inplace=True)\n",
    "tcs_close.shape"
   ]
  },
  {
   "cell_type": "code",
   "execution_count": 111,
   "id": "60bddbb7-c81d-4e86-865e-6acbc6129b5b",
   "metadata": {},
   "outputs": [
    {
     "data": {
      "text/html": [
       "<div>\n",
       "<style scoped>\n",
       "    .dataframe tbody tr th:only-of-type {\n",
       "        vertical-align: middle;\n",
       "    }\n",
       "\n",
       "    .dataframe tbody tr th {\n",
       "        vertical-align: top;\n",
       "    }\n",
       "\n",
       "    .dataframe thead th {\n",
       "        text-align: right;\n",
       "    }\n",
       "</style>\n",
       "<table border=\"1\" class=\"dataframe\">\n",
       "  <thead>\n",
       "    <tr style=\"text-align: right;\">\n",
       "      <th></th>\n",
       "      <th>close</th>\n",
       "    </tr>\n",
       "  </thead>\n",
       "  <tbody>\n",
       "    <tr>\n",
       "      <th>0</th>\n",
       "      <td>2838.20</td>\n",
       "    </tr>\n",
       "    <tr>\n",
       "      <th>1</th>\n",
       "      <td>2861.00</td>\n",
       "    </tr>\n",
       "    <tr>\n",
       "      <th>2</th>\n",
       "      <td>2820.15</td>\n",
       "    </tr>\n",
       "    <tr>\n",
       "      <th>3</th>\n",
       "      <td>2872.50</td>\n",
       "    </tr>\n",
       "    <tr>\n",
       "      <th>4</th>\n",
       "      <td>2908.75</td>\n",
       "    </tr>\n",
       "  </tbody>\n",
       "</table>\n",
       "</div>"
      ],
      "text/plain": [
       "     close\n",
       "0  2838.20\n",
       "1  2861.00\n",
       "2  2820.15\n",
       "3  2872.50\n",
       "4  2908.75"
      ]
     },
     "execution_count": 111,
     "metadata": {},
     "output_type": "execute_result"
    }
   ],
   "source": [
    "tcs_close = pd.DataFrame(tcs_close)\n",
    "tcs_close.head()"
   ]
  },
  {
   "cell_type": "code",
   "execution_count": 112,
   "id": "571f1892-3d75-4de0-a041-ea8c52fa5497",
   "metadata": {},
   "outputs": [],
   "source": [
    "train = tcs_close.iloc[:480]\n",
    "test = tcs_close.iloc[480:]"
   ]
  },
  {
   "cell_type": "code",
   "execution_count": 113,
   "id": "e8a5e4cf-9d34-422f-a27e-97f8a23e7898",
   "metadata": {},
   "outputs": [],
   "source": [
    "from sklearn.preprocessing import MinMaxScaler"
   ]
  },
  {
   "cell_type": "code",
   "execution_count": 114,
   "id": "0c18e390-d4ee-4a07-a79f-706b9e7bea1e",
   "metadata": {},
   "outputs": [],
   "source": [
    "scaler = MinMaxScaler()"
   ]
  },
  {
   "cell_type": "code",
   "execution_count": 115,
   "id": "12446441-8537-4cef-8daf-41150c13e773",
   "metadata": {},
   "outputs": [
    {
     "data": {
      "text/plain": [
       "MinMaxScaler()"
      ]
     },
     "execution_count": 115,
     "metadata": {},
     "output_type": "execute_result"
    }
   ],
   "source": [
    "scaler.fit(train)"
   ]
  },
  {
   "cell_type": "code",
   "execution_count": 116,
   "id": "bc74a0b6-acff-4bce-a023-5afe95b579ae",
   "metadata": {},
   "outputs": [],
   "source": [
    "scaled_train = scaler.transform(train)\n",
    "scaled_test = scaler.transform(test)"
   ]
  },
  {
   "cell_type": "code",
   "execution_count": 117,
   "id": "257a9893-12b7-46b9-a472-d4f3a1f49276",
   "metadata": {},
   "outputs": [],
   "source": [
    "from tensorflow.keras.preprocessing.sequence import TimeseriesGenerator"
   ]
  },
  {
   "cell_type": "markdown",
   "id": "d2672354-856d-4396-933f-db9171254e2b",
   "metadata": {},
   "source": [
    "## Creating the Model"
   ]
  },
  {
   "cell_type": "code",
   "execution_count": 118,
   "id": "7b60d808-e4a4-440f-9eaf-e5d7a7df7ddc",
   "metadata": {},
   "outputs": [
    {
     "data": {
      "text/plain": [
       "(16, 1)"
      ]
     },
     "execution_count": 118,
     "metadata": {},
     "output_type": "execute_result"
    }
   ],
   "source": [
    "test.shape"
   ]
  },
  {
   "cell_type": "code",
   "execution_count": 119,
   "id": "3e76e369-904b-4557-b166-1890e464c98c",
   "metadata": {
    "collapsed": true,
    "jupyter": {
     "outputs_hidden": true
    },
    "tags": []
   },
   "outputs": [
    {
     "name": "stdout",
     "output_type": "stream",
     "text": [
      "Help on class TimeseriesGenerator in module keras.preprocessing.sequence:\n",
      "\n",
      "class TimeseriesGenerator(keras.utils.data_utils.Sequence)\n",
      " |  TimeseriesGenerator(data, targets, length, sampling_rate=1, stride=1, start_index=0, end_index=None, shuffle=False, reverse=False, batch_size=128)\n",
      " |  \n",
      " |  Utility class for generating batches of temporal data.\n",
      " |  \n",
      " |  Deprecated: `tf.keras.preprocessing.sequence.TimeseriesGenerator` does not\n",
      " |  operate on tensors and is not recommended for new code. Prefer using a\n",
      " |  `tf.data.Dataset` which provides a more efficient and flexible mechanism for\n",
      " |  batching, shuffling, and windowing input. See the\n",
      " |  [tf.data guide](https://www.tensorflow.org/guide/data) for more details.\n",
      " |  \n",
      " |  This class takes in a sequence of data-points gathered at\n",
      " |  equal intervals, along with time series parameters such as\n",
      " |  stride, length of history, etc., to produce batches for\n",
      " |  training/validation.\n",
      " |  \n",
      " |  Arguments:\n",
      " |      data: Indexable generator (such as list or Numpy array)\n",
      " |          containing consecutive data points (timesteps).\n",
      " |          The data should be at 2D, and axis 0 is expected\n",
      " |          to be the time dimension.\n",
      " |      targets: Targets corresponding to timesteps in `data`.\n",
      " |          It should have same length as `data`.\n",
      " |      length: Length of the output sequences (in number of timesteps).\n",
      " |      sampling_rate: Period between successive individual timesteps\n",
      " |          within sequences. For rate `r`, timesteps\n",
      " |          `data[i]`, `data[i-r]`, ... `data[i - length]`\n",
      " |          are used for create a sample sequence.\n",
      " |      stride: Period between successive output sequences.\n",
      " |          For stride `s`, consecutive output samples would\n",
      " |          be centered around `data[i]`, `data[i+s]`, `data[i+2*s]`, etc.\n",
      " |      start_index: Data points earlier than `start_index` will not be used\n",
      " |          in the output sequences. This is useful to reserve part of the\n",
      " |          data for test or validation.\n",
      " |      end_index: Data points later than `end_index` will not be used\n",
      " |          in the output sequences. This is useful to reserve part of the\n",
      " |          data for test or validation.\n",
      " |      shuffle: Whether to shuffle output samples,\n",
      " |          or instead draw them in chronological order.\n",
      " |      reverse: Boolean: if `true`, timesteps in each output sample will be\n",
      " |          in reverse chronological order.\n",
      " |      batch_size: Number of timeseries samples in each batch\n",
      " |          (except maybe the last one).\n",
      " |  \n",
      " |  Returns:\n",
      " |      A [Sequence](\n",
      " |      https://www.tensorflow.org/api_docs/python/tf/keras/utils/Sequence)\n",
      " |      instance.\n",
      " |  \n",
      " |  Examples:\n",
      " |      ```python\n",
      " |      from keras.preprocessing.sequence import TimeseriesGenerator\n",
      " |      import numpy as np\n",
      " |      data = np.array([[i] for i in range(50)])\n",
      " |      targets = np.array([[i] for i in range(50)])\n",
      " |      data_gen = TimeseriesGenerator(data, targets,\n",
      " |                                     length=10, sampling_rate=2,\n",
      " |                                     batch_size=2)\n",
      " |      assert len(data_gen) == 20\n",
      " |      batch_0 = data_gen[0]\n",
      " |      x, y = batch_0\n",
      " |      assert np.array_equal(x,\n",
      " |                            np.array([[[0], [2], [4], [6], [8]],\n",
      " |                                      [[1], [3], [5], [7], [9]]]))\n",
      " |      assert np.array_equal(y,\n",
      " |                            np.array([[10], [11]]))\n",
      " |      ```\n",
      " |  \n",
      " |  Method resolution order:\n",
      " |      TimeseriesGenerator\n",
      " |      keras.utils.data_utils.Sequence\n",
      " |      builtins.object\n",
      " |  \n",
      " |  Methods defined here:\n",
      " |  \n",
      " |  __getitem__(self, index)\n",
      " |      Gets batch at position `index`.\n",
      " |      \n",
      " |      Args:\n",
      " |          index: position of the batch in the Sequence.\n",
      " |      \n",
      " |      Returns:\n",
      " |          A batch\n",
      " |  \n",
      " |  __init__(self, data, targets, length, sampling_rate=1, stride=1, start_index=0, end_index=None, shuffle=False, reverse=False, batch_size=128)\n",
      " |      Initialize self.  See help(type(self)) for accurate signature.\n",
      " |  \n",
      " |  __len__(self)\n",
      " |      Number of batch in the Sequence.\n",
      " |      \n",
      " |      Returns:\n",
      " |          The number of batches in the Sequence.\n",
      " |  \n",
      " |  get_config(self)\n",
      " |      Returns the TimeseriesGenerator configuration as Python dictionary.\n",
      " |      \n",
      " |      Returns:\n",
      " |          A Python dictionary with the TimeseriesGenerator configuration.\n",
      " |  \n",
      " |  to_json(self, **kwargs)\n",
      " |      Returns a JSON string containing the timeseries generator configuration.\n",
      " |      \n",
      " |      Args:\n",
      " |          **kwargs: Additional keyword arguments\n",
      " |              to be passed to `json.dumps()`.\n",
      " |      Returns:\n",
      " |          A JSON string containing the tokenizer configuration.\n",
      " |  \n",
      " |  ----------------------------------------------------------------------\n",
      " |  Methods inherited from keras.utils.data_utils.Sequence:\n",
      " |  \n",
      " |  __iter__(self)\n",
      " |      Create a generator that iterate over the Sequence.\n",
      " |  \n",
      " |  on_epoch_end(self)\n",
      " |      Method called at the end of every epoch.\n",
      " |  \n",
      " |  ----------------------------------------------------------------------\n",
      " |  Data descriptors inherited from keras.utils.data_utils.Sequence:\n",
      " |  \n",
      " |  __dict__\n",
      " |      dictionary for instance variables (if defined)\n",
      " |  \n",
      " |  __weakref__\n",
      " |      list of weak references to the object (if defined)\n",
      "\n"
     ]
    }
   ],
   "source": [
    "help(TimeseriesGenerator)"
   ]
  },
  {
   "cell_type": "code",
   "execution_count": 120,
   "id": "4ee71fbf-036f-4369-8949-ee3be34981b8",
   "metadata": {},
   "outputs": [],
   "source": [
    "length = 16\n",
    "batch_size = 32\n",
    "generator = TimeseriesGenerator(scaled_train, scaled_train, length = length, batch_size=batch_size)\n",
    "# Will create an object with train - length and last 16 values will be predicted and validated"
   ]
  },
  {
   "cell_type": "code",
   "execution_count": 121,
   "id": "f77098e6-e888-4b34-b1f1-dc5365cf08e3",
   "metadata": {},
   "outputs": [],
   "source": [
    "from tensorflow.keras.models import Sequential\n",
    "from tensorflow.keras.layers import Dense, SimpleRNN, LSTM, Dropout"
   ]
  },
  {
   "cell_type": "code",
   "execution_count": 122,
   "id": "ede95508-1f20-455b-8bfc-b1ed6a8deba4",
   "metadata": {},
   "outputs": [],
   "source": [
    "n_features = 1"
   ]
  },
  {
   "cell_type": "code",
   "execution_count": 123,
   "id": "a1d1a109-0036-4c86-a59a-d8a532474dcc",
   "metadata": {},
   "outputs": [],
   "source": [
    "# Get initial weights\n",
    "init_weights = model.get_weights()"
   ]
  },
  {
   "cell_type": "code",
   "execution_count": 124,
   "id": "0c1cce1b-f310-4f09-bd2f-0009741aeda4",
   "metadata": {},
   "outputs": [],
   "source": [
    "model = tf.keras.models.Sequential([\n",
    "  tf.keras.layers.Conv1D(filters=64, kernel_size=3,\n",
    "                      strides=1,\n",
    "                      activation=\"relu\",\n",
    "                      padding='causal',\n",
    "                      input_shape=[length, n_features]),\n",
    "  tf.keras.layers.LSTM(64, return_sequences=True),\n",
    "  tf.keras.layers.LSTM(64),\n",
    "  tf.keras.layers.Dense(30, activation=\"relu\"),\n",
    "  tf.keras.layers.Dense(10, activation=\"relu\"),\n",
    "  tf.keras.layers.Dense(1),\n",
    "  tf.keras.layers.Lambda(lambda x: x * 400)\n",
    "])\n"
   ]
  },
  {
   "cell_type": "code",
   "execution_count": 125,
   "id": "6452bd10-a66c-4d7c-9745-0bd62cf8d934",
   "metadata": {},
   "outputs": [
    {
     "name": "stdout",
     "output_type": "stream",
     "text": [
      "Epoch 1/100\n"
     ]
    },
    {
     "name": "stderr",
     "output_type": "stream",
     "text": [
      "C:\\Users\\vijai\\AppData\\Local\\Temp\\ipykernel_11300\\1333944779.py:14: UserWarning: `Model.fit_generator` is deprecated and will be removed in a future version. Please use `Model.fit`, which supports generators.\n",
      "  history = model.fit_generator(generator, epochs=100, callbacks=[lr_schedule])\n"
     ]
    },
    {
     "name": "stdout",
     "output_type": "stream",
     "text": [
      "15/15 [==============================] - 6s 22ms/step - loss: 0.2410 - lr: 1.0000e-08\n",
      "Epoch 2/100\n",
      "15/15 [==============================] - 0s 21ms/step - loss: 0.2145 - lr: 1.1220e-08\n",
      "Epoch 3/100\n",
      "15/15 [==============================] - 0s 21ms/step - loss: 0.2139 - lr: 1.2589e-08\n",
      "Epoch 4/100\n",
      "15/15 [==============================] - 0s 21ms/step - loss: 0.2077 - lr: 1.4125e-08\n",
      "Epoch 5/100\n",
      "15/15 [==============================] - 0s 22ms/step - loss: 0.2140 - lr: 1.5849e-08\n",
      "Epoch 6/100\n",
      "15/15 [==============================] - 0s 22ms/step - loss: 0.2054 - lr: 1.7783e-08\n",
      "Epoch 7/100\n",
      "15/15 [==============================] - 0s 22ms/step - loss: 0.2034 - lr: 1.9953e-08\n",
      "Epoch 8/100\n",
      "15/15 [==============================] - 0s 22ms/step - loss: 0.1994 - lr: 2.2387e-08\n",
      "Epoch 9/100\n",
      "15/15 [==============================] - 0s 21ms/step - loss: 0.1910 - lr: 2.5119e-08\n",
      "Epoch 10/100\n",
      "15/15 [==============================] - 0s 21ms/step - loss: 0.1897 - lr: 2.8184e-08\n",
      "Epoch 11/100\n",
      "15/15 [==============================] - 0s 21ms/step - loss: 0.1924 - lr: 3.1623e-08\n",
      "Epoch 12/100\n",
      "15/15 [==============================] - 0s 21ms/step - loss: 0.1813 - lr: 3.5481e-08\n",
      "Epoch 13/100\n",
      "15/15 [==============================] - 0s 21ms/step - loss: 0.1818 - lr: 3.9811e-08\n",
      "Epoch 14/100\n",
      "15/15 [==============================] - 0s 22ms/step - loss: 0.1703 - lr: 4.4668e-08\n",
      "Epoch 15/100\n",
      "15/15 [==============================] - 0s 23ms/step - loss: 0.1594 - lr: 5.0119e-08\n",
      "Epoch 16/100\n",
      "15/15 [==============================] - 0s 22ms/step - loss: 0.1501 - lr: 5.6234e-08\n",
      "Epoch 17/100\n",
      "15/15 [==============================] - 0s 21ms/step - loss: 0.1245 - lr: 6.3096e-08\n",
      "Epoch 18/100\n",
      "15/15 [==============================] - 0s 21ms/step - loss: 0.1050 - lr: 7.0795e-08\n",
      "Epoch 19/100\n",
      "15/15 [==============================] - 0s 22ms/step - loss: 0.1213 - lr: 7.9433e-08\n",
      "Epoch 20/100\n",
      "15/15 [==============================] - 0s 22ms/step - loss: 0.1269 - lr: 8.9125e-08\n",
      "Epoch 21/100\n",
      "15/15 [==============================] - 0s 21ms/step - loss: 0.1031 - lr: 1.0000e-07\n",
      "Epoch 22/100\n",
      "15/15 [==============================] - 0s 22ms/step - loss: 0.0713 - lr: 1.1220e-07\n",
      "Epoch 23/100\n",
      "15/15 [==============================] - 0s 21ms/step - loss: 0.0940 - lr: 1.2589e-07\n",
      "Epoch 24/100\n",
      "15/15 [==============================] - 0s 22ms/step - loss: 0.0691 - lr: 1.4125e-07\n",
      "Epoch 25/100\n",
      "15/15 [==============================] - 0s 21ms/step - loss: 0.0743 - lr: 1.5849e-07\n",
      "Epoch 26/100\n",
      "15/15 [==============================] - 0s 22ms/step - loss: 0.0677 - lr: 1.7783e-07\n",
      "Epoch 27/100\n",
      "15/15 [==============================] - 0s 22ms/step - loss: 0.0680 - lr: 1.9953e-07\n",
      "Epoch 28/100\n",
      "15/15 [==============================] - 0s 22ms/step - loss: 0.0592 - lr: 2.2387e-07\n",
      "Epoch 29/100\n",
      "15/15 [==============================] - 0s 22ms/step - loss: 0.0704 - lr: 2.5119e-07\n",
      "Epoch 30/100\n",
      "15/15 [==============================] - 0s 22ms/step - loss: 0.0520 - lr: 2.8184e-07\n",
      "Epoch 31/100\n",
      "15/15 [==============================] - 0s 23ms/step - loss: 0.0698 - lr: 3.1623e-07\n",
      "Epoch 32/100\n",
      "15/15 [==============================] - 0s 23ms/step - loss: 0.0733 - lr: 3.5481e-07\n",
      "Epoch 33/100\n",
      "15/15 [==============================] - 0s 23ms/step - loss: 0.1568 - lr: 3.9811e-07\n",
      "Epoch 34/100\n",
      "15/15 [==============================] - 0s 22ms/step - loss: 0.0867 - lr: 4.4668e-07\n",
      "Epoch 35/100\n",
      "15/15 [==============================] - 0s 23ms/step - loss: 0.0560 - lr: 5.0119e-07\n",
      "Epoch 36/100\n",
      "15/15 [==============================] - 0s 22ms/step - loss: 0.0698 - lr: 5.6234e-07\n",
      "Epoch 37/100\n",
      "15/15 [==============================] - 0s 22ms/step - loss: 0.0573 - lr: 6.3096e-07\n",
      "Epoch 38/100\n",
      "15/15 [==============================] - 0s 22ms/step - loss: 0.1433 - lr: 7.0795e-07\n",
      "Epoch 39/100\n",
      "15/15 [==============================] - 0s 22ms/step - loss: 0.2042 - lr: 7.9433e-07\n",
      "Epoch 40/100\n",
      "15/15 [==============================] - 0s 22ms/step - loss: 0.1870 - lr: 8.9125e-07\n",
      "Epoch 41/100\n",
      "15/15 [==============================] - 0s 23ms/step - loss: 0.1204 - lr: 1.0000e-06\n",
      "Epoch 42/100\n",
      "15/15 [==============================] - 0s 22ms/step - loss: 0.1295 - lr: 1.1220e-06\n",
      "Epoch 43/100\n",
      "15/15 [==============================] - 0s 24ms/step - loss: 0.4514 - lr: 1.2589e-06\n",
      "Epoch 44/100\n",
      "15/15 [==============================] - 0s 23ms/step - loss: 0.5522 - lr: 1.4125e-06\n",
      "Epoch 45/100\n",
      "15/15 [==============================] - 0s 23ms/step - loss: 0.4680 - lr: 1.5849e-06\n",
      "Epoch 46/100\n",
      "15/15 [==============================] - 0s 23ms/step - loss: 0.7233 - lr: 1.7783e-06\n",
      "Epoch 47/100\n",
      "15/15 [==============================] - 0s 21ms/step - loss: 1.5382 - lr: 1.9953e-06\n",
      "Epoch 48/100\n",
      "15/15 [==============================] - 0s 23ms/step - loss: 0.7036 - lr: 2.2387e-06\n",
      "Epoch 49/100\n",
      "15/15 [==============================] - 0s 22ms/step - loss: 0.8054 - lr: 2.5119e-06\n",
      "Epoch 50/100\n",
      "15/15 [==============================] - 0s 22ms/step - loss: 2.4575 - lr: 2.8184e-06\n",
      "Epoch 51/100\n",
      "15/15 [==============================] - 0s 21ms/step - loss: 2.7061 - lr: 3.1623e-06\n",
      "Epoch 52/100\n",
      "15/15 [==============================] - 0s 22ms/step - loss: 2.0999 - lr: 3.5481e-06\n",
      "Epoch 53/100\n",
      "15/15 [==============================] - 0s 22ms/step - loss: 2.8678 - lr: 3.9811e-06\n",
      "Epoch 54/100\n",
      "15/15 [==============================] - 0s 22ms/step - loss: 5.9054 - lr: 4.4668e-06\n",
      "Epoch 55/100\n",
      "15/15 [==============================] - 0s 22ms/step - loss: 3.0155 - lr: 5.0119e-06\n",
      "Epoch 56/100\n",
      "15/15 [==============================] - 0s 21ms/step - loss: 3.5971 - lr: 5.6234e-06\n",
      "Epoch 57/100\n",
      "15/15 [==============================] - 0s 22ms/step - loss: 4.7581 - lr: 6.3096e-06\n",
      "Epoch 58/100\n",
      "15/15 [==============================] - 0s 22ms/step - loss: 3.0372 - lr: 7.0795e-06\n",
      "Epoch 59/100\n",
      "15/15 [==============================] - 0s 22ms/step - loss: 2.1170 - lr: 7.9433e-06\n",
      "Epoch 60/100\n",
      "15/15 [==============================] - 0s 22ms/step - loss: 0.7978 - lr: 8.9125e-06\n",
      "Epoch 61/100\n",
      "15/15 [==============================] - 0s 22ms/step - loss: 0.3406 - lr: 1.0000e-05\n",
      "Epoch 62/100\n",
      "15/15 [==============================] - 0s 21ms/step - loss: 0.3823 - lr: 1.1220e-05\n",
      "Epoch 63/100\n",
      "15/15 [==============================] - 0s 21ms/step - loss: 0.3072 - lr: 1.2589e-05\n",
      "Epoch 64/100\n",
      "15/15 [==============================] - 0s 23ms/step - loss: 0.0901 - lr: 1.4125e-05\n",
      "Epoch 65/100\n",
      "15/15 [==============================] - 0s 22ms/step - loss: 0.1350 - lr: 1.5849e-05\n",
      "Epoch 66/100\n",
      "15/15 [==============================] - 0s 22ms/step - loss: 0.2775 - lr: 1.7783e-05\n",
      "Epoch 67/100\n",
      "15/15 [==============================] - 0s 21ms/step - loss: 1.5131 - lr: 1.9953e-05\n",
      "Epoch 68/100\n",
      "15/15 [==============================] - 0s 21ms/step - loss: 1.4998 - lr: 2.2387e-05\n",
      "Epoch 69/100\n",
      "15/15 [==============================] - 0s 22ms/step - loss: 3.2227 - lr: 2.5119e-05\n",
      "Epoch 70/100\n",
      "15/15 [==============================] - 0s 22ms/step - loss: 2.2891 - lr: 2.8184e-05\n",
      "Epoch 71/100\n",
      "15/15 [==============================] - 0s 21ms/step - loss: 2.0483 - lr: 3.1623e-05\n",
      "Epoch 72/100\n",
      "15/15 [==============================] - 0s 21ms/step - loss: 8.3951 - lr: 3.5481e-05\n",
      "Epoch 73/100\n",
      "15/15 [==============================] - 0s 22ms/step - loss: 9.2177 - lr: 3.9811e-05\n",
      "Epoch 74/100\n",
      "15/15 [==============================] - 0s 28ms/step - loss: 17.2187 - lr: 4.4668e-05\n",
      "Epoch 75/100\n",
      "15/15 [==============================] - 0s 30ms/step - loss: 9.1587 - lr: 5.0119e-05\n",
      "Epoch 76/100\n",
      "15/15 [==============================] - 0s 27ms/step - loss: 2.9500 - lr: 5.6234e-05\n",
      "Epoch 77/100\n",
      "15/15 [==============================] - 0s 27ms/step - loss: 22.2840 - lr: 6.3096e-05\n",
      "Epoch 78/100\n",
      "15/15 [==============================] - 0s 24ms/step - loss: 16.0299 - lr: 7.0795e-05\n",
      "Epoch 79/100\n",
      "15/15 [==============================] - 0s 24ms/step - loss: 19.4477 - lr: 7.9433e-05\n",
      "Epoch 80/100\n",
      "15/15 [==============================] - 0s 23ms/step - loss: 20.4979 - lr: 8.9125e-05\n",
      "Epoch 81/100\n",
      "15/15 [==============================] - 0s 24ms/step - loss: 25.5047 - lr: 1.0000e-04\n",
      "Epoch 82/100\n",
      "15/15 [==============================] - 0s 23ms/step - loss: 7.4234 - lr: 1.1220e-04\n",
      "Epoch 83/100\n",
      "15/15 [==============================] - 0s 23ms/step - loss: 4.8901 - lr: 1.2589e-04\n",
      "Epoch 84/100\n",
      "15/15 [==============================] - 0s 23ms/step - loss: 8.0486 - lr: 1.4125e-04\n",
      "Epoch 85/100\n",
      "15/15 [==============================] - 0s 23ms/step - loss: 14.4100 - lr: 1.5849e-04\n",
      "Epoch 86/100\n",
      "15/15 [==============================] - 0s 22ms/step - loss: 15.3355 - lr: 1.7783e-04\n",
      "Epoch 87/100\n",
      "15/15 [==============================] - 0s 24ms/step - loss: 38.3982 - lr: 1.9953e-04\n",
      "Epoch 88/100\n",
      "15/15 [==============================] - 0s 24ms/step - loss: 33.6120 - lr: 2.2387e-04\n",
      "Epoch 89/100\n",
      "15/15 [==============================] - 0s 24ms/step - loss: 50.5953 - lr: 2.5119e-04\n",
      "Epoch 90/100\n",
      "15/15 [==============================] - 0s 22ms/step - loss: 107.4073 - lr: 2.8184e-04\n",
      "Epoch 91/100\n",
      "15/15 [==============================] - 0s 24ms/step - loss: 62.7296 - lr: 3.1623e-04\n",
      "Epoch 92/100\n",
      "15/15 [==============================] - 0s 23ms/step - loss: 94.8149 - lr: 3.5481e-04\n",
      "Epoch 93/100\n",
      "15/15 [==============================] - 0s 22ms/step - loss: 99.2460 - lr: 3.9811e-04\n",
      "Epoch 94/100\n",
      "15/15 [==============================] - 0s 23ms/step - loss: 103.9691 - lr: 4.4668e-04\n",
      "Epoch 95/100\n",
      "15/15 [==============================] - 0s 21ms/step - loss: 132.7283 - lr: 5.0119e-04\n",
      "Epoch 96/100\n",
      "15/15 [==============================] - 0s 22ms/step - loss: 85.6140 - lr: 5.6234e-04\n",
      "Epoch 97/100\n",
      "15/15 [==============================] - 0s 22ms/step - loss: 95.5643 - lr: 6.3096e-04\n",
      "Epoch 98/100\n",
      "15/15 [==============================] - 0s 24ms/step - loss: 59.9423 - lr: 7.0795e-04\n",
      "Epoch 99/100\n",
      "15/15 [==============================] - 0s 21ms/step - loss: 63.2952 - lr: 7.9433e-04\n",
      "Epoch 100/100\n",
      "15/15 [==============================] - 0s 21ms/step - loss: 323.5111 - lr: 8.9125e-04\n"
     ]
    }
   ],
   "source": [
    "tf.keras.backend.clear_session()\n",
    "\n",
    "# Set the learning rate scheduler\n",
    "lr_schedule = tf.keras.callbacks.LearningRateScheduler(\n",
    "    lambda epoch: 1e-8 * 10**(epoch / 20))\n",
    "\n",
    "# Initialize the optimizer\n",
    "optimizer = tf.keras.optimizers.SGD(momentum=0.9)\n",
    "\n",
    "# Set the training parameters\n",
    "model.compile(loss=tf.keras.losses.Huber(), optimizer=optimizer)\n",
    "\n",
    "# Train the model\n",
    "history = model.fit_generator(generator, epochs=100, callbacks=[lr_schedule])"
   ]
  },
  {
   "cell_type": "code",
   "execution_count": 127,
   "id": "e1ee1d7d-232d-48ca-8221-8c1bbfb51e43",
   "metadata": {},
   "outputs": [
    {
     "data": {
      "text/plain": [
       "(1e-08, 0.001, 0.0, 100.0)"
      ]
     },
     "execution_count": 127,
     "metadata": {},
     "output_type": "execute_result"
    },
    {
     "data": {
      "image/png": "[encoded data removed]",
      "text/plain": [
       "<Figure size 1000x600 with 1 Axes>"
      ]
     },
     "metadata": {},
     "output_type": "display_data"
    }
   ],
   "source": [
    "# Define the learning rate array\n",
    "lrs = 1e-8 * (10 ** (np.arange(100) / 20))\n",
    "\n",
    "# Set the figure size\n",
    "plt.figure(figsize=(10, 6))\n",
    "\n",
    "# Set the grid\n",
    "plt.grid(True)\n",
    "\n",
    "# Plot the loss in log scale\n",
    "plt.semilogx(lrs, history.history[\"loss\"])\n",
    "\n",
    "# Increase the tickmarks size\n",
    "plt.tick_params('both', length=10, width=1, which='both')\n",
    "\n",
    "# Set the plot boundaries\n",
    "plt.axis([1e-8, 1e-3, 0, 100])"
   ]
  },
  {
   "cell_type": "code",
   "execution_count": 128,
   "id": "5758d459-d0bc-4c14-96ef-96a6e4169934",
   "metadata": {},
   "outputs": [],
   "source": [
    "# Reset states generated by Keras\n",
    "tf.keras.backend.clear_session()\n",
    "\n",
    "# Reset the weights\n",
    "model.set_weights(init_weights)"
   ]
  },
  {
   "cell_type": "code",
   "execution_count": 129,
   "id": "3834ae2f-8b36-46b1-86dd-c771340006bf",
   "metadata": {},
   "outputs": [],
   "source": [
    "# Set the learning rate\n",
    "learning_rate = 2.8184e-7\n",
    "# Set the optimizer \n",
    "optimizer = tf.keras.optimizers.SGD(learning_rate=learning_rate, momentum=0.9)\n",
    "\n",
    "# Set the training parameters\n",
    "model.compile(loss=tf.keras.losses.Huber(),\n",
    "              optimizer=optimizer,\n",
    "              metrics=[\"mae\"])"
   ]
  },
  {
   "cell_type": "code",
   "execution_count": 130,
   "id": "0ac19c89-2aae-4472-9a87-2dfba9511a9d",
   "metadata": {},
   "outputs": [
    {
     "name": "stdout",
     "output_type": "stream",
     "text": [
      "Epoch 1/100\n"
     ]
    },
    {
     "name": "stderr",
     "output_type": "stream",
     "text": [
      "C:\\Users\\vijai\\AppData\\Local\\Temp\\ipykernel_11300\\3714150873.py:1: UserWarning: `Model.fit_generator` is deprecated and will be removed in a future version. Please use `Model.fit`, which supports generators.\n",
      "  model.fit_generator(generator, epochs=100)\n"
     ]
    },
    {
     "name": "stdout",
     "output_type": "stream",
     "text": [
      "15/15 [==============================] - 6s 23ms/step - loss: 0.0045 - mae: 0.0747\n",
      "Epoch 2/100\n",
      "15/15 [==============================] - 0s 23ms/step - loss: 0.0048 - mae: 0.0811\n",
      "Epoch 3/100\n",
      "15/15 [==============================] - 0s 22ms/step - loss: 0.0041 - mae: 0.0740\n",
      "Epoch 4/100\n",
      "15/15 [==============================] - 0s 22ms/step - loss: 0.0045 - mae: 0.0784\n",
      "Epoch 5/100\n",
      "15/15 [==============================] - 0s 23ms/step - loss: 0.0042 - mae: 0.0748\n",
      "Epoch 6/100\n",
      "15/15 [==============================] - 0s 23ms/step - loss: 0.0043 - mae: 0.0772\n",
      "Epoch 7/100\n",
      "15/15 [==============================] - 0s 22ms/step - loss: 0.0051 - mae: 0.0836\n",
      "Epoch 8/100\n",
      "15/15 [==============================] - 0s 23ms/step - loss: 0.0057 - mae: 0.0871\n",
      "Epoch 9/100\n",
      "15/15 [==============================] - 0s 22ms/step - loss: 0.0050 - mae: 0.0838\n",
      "Epoch 10/100\n",
      "15/15 [==============================] - 0s 23ms/step - loss: 0.0046 - mae: 0.0771\n",
      "Epoch 11/100\n",
      "15/15 [==============================] - 0s 23ms/step - loss: 0.0050 - mae: 0.0826\n",
      "Epoch 12/100\n",
      "15/15 [==============================] - 0s 23ms/step - loss: 0.0051 - mae: 0.0789\n",
      "Epoch 13/100\n",
      "15/15 [==============================] - 0s 23ms/step - loss: 0.0052 - mae: 0.0860\n",
      "Epoch 14/100\n",
      "15/15 [==============================] - 0s 24ms/step - loss: 0.0043 - mae: 0.0750\n",
      "Epoch 15/100\n",
      "15/15 [==============================] - 0s 25ms/step - loss: 0.0044 - mae: 0.0783\n",
      "Epoch 16/100\n",
      "15/15 [==============================] - 0s 24ms/step - loss: 0.0043 - mae: 0.0761\n",
      "Epoch 17/100\n",
      "15/15 [==============================] - 0s 23ms/step - loss: 0.0044 - mae: 0.0783\n",
      "Epoch 18/100\n",
      "15/15 [==============================] - 0s 22ms/step - loss: 0.0044 - mae: 0.0759\n",
      "Epoch 19/100\n",
      "15/15 [==============================] - 0s 22ms/step - loss: 0.0045 - mae: 0.0795\n",
      "Epoch 20/100\n",
      "15/15 [==============================] - 0s 22ms/step - loss: 0.0046 - mae: 0.0784\n",
      "Epoch 21/100\n",
      "15/15 [==============================] - 0s 22ms/step - loss: 0.0043 - mae: 0.0752\n",
      "Epoch 22/100\n",
      "15/15 [==============================] - 0s 22ms/step - loss: 0.0043 - mae: 0.0762\n",
      "Epoch 23/100\n",
      "15/15 [==============================] - 0s 22ms/step - loss: 0.0042 - mae: 0.0746\n",
      "Epoch 24/100\n",
      "15/15 [==============================] - 0s 22ms/step - loss: 0.0044 - mae: 0.0786\n",
      "Epoch 25/100\n",
      "15/15 [==============================] - 0s 23ms/step - loss: 0.0043 - mae: 0.0765\n",
      "Epoch 26/100\n",
      "15/15 [==============================] - 0s 24ms/step - loss: 0.0044 - mae: 0.0762\n",
      "Epoch 27/100\n",
      "15/15 [==============================] - 0s 24ms/step - loss: 0.0044 - mae: 0.0777\n",
      "Epoch 28/100\n",
      "15/15 [==============================] - 0s 26ms/step - loss: 0.0045 - mae: 0.0772\n",
      "Epoch 29/100\n",
      "15/15 [==============================] - 0s 25ms/step - loss: 0.0043 - mae: 0.0768\n",
      "Epoch 30/100\n",
      "15/15 [==============================] - 0s 28ms/step - loss: 0.0042 - mae: 0.0746\n",
      "Epoch 31/100\n",
      "15/15 [==============================] - 0s 25ms/step - loss: 0.0042 - mae: 0.0760\n",
      "Epoch 32/100\n",
      "15/15 [==============================] - 0s 25ms/step - loss: 0.0043 - mae: 0.0759\n",
      "Epoch 33/100\n",
      "15/15 [==============================] - 0s 23ms/step - loss: 0.0048 - mae: 0.0814\n",
      "Epoch 34/100\n",
      "15/15 [==============================] - 0s 23ms/step - loss: 0.0042 - mae: 0.0740\n",
      "Epoch 35/100\n",
      "15/15 [==============================] - 0s 23ms/step - loss: 0.0044 - mae: 0.0774\n",
      "Epoch 36/100\n",
      "15/15 [==============================] - 0s 24ms/step - loss: 0.0048 - mae: 0.0824\n",
      "Epoch 37/100\n",
      "15/15 [==============================] - 0s 23ms/step - loss: 0.0046 - mae: 0.0778\n",
      "Epoch 38/100\n",
      "15/15 [==============================] - 0s 25ms/step - loss: 0.0046 - mae: 0.0799\n",
      "Epoch 39/100\n",
      "15/15 [==============================] - 0s 23ms/step - loss: 0.0045 - mae: 0.0788\n",
      "Epoch 40/100\n",
      "15/15 [==============================] - 0s 24ms/step - loss: 0.0045 - mae: 0.0751\n",
      "Epoch 41/100\n",
      "15/15 [==============================] - 0s 24ms/step - loss: 0.0046 - mae: 0.0809\n",
      "Epoch 42/100\n",
      "15/15 [==============================] - 0s 25ms/step - loss: 0.0042 - mae: 0.0759\n",
      "Epoch 43/100\n",
      "15/15 [==============================] - 0s 23ms/step - loss: 0.0042 - mae: 0.0753\n",
      "Epoch 44/100\n",
      "15/15 [==============================] - 0s 25ms/step - loss: 0.0044 - mae: 0.0759\n",
      "Epoch 45/100\n",
      "15/15 [==============================] - 0s 24ms/step - loss: 0.0044 - mae: 0.0768\n",
      "Epoch 46/100\n",
      "15/15 [==============================] - 0s 24ms/step - loss: 0.0044 - mae: 0.0779\n",
      "Epoch 47/100\n",
      "15/15 [==============================] - 0s 23ms/step - loss: 0.0044 - mae: 0.0782\n",
      "Epoch 48/100\n",
      "15/15 [==============================] - 0s 22ms/step - loss: 0.0045 - mae: 0.0780\n",
      "Epoch 49/100\n",
      "15/15 [==============================] - 0s 22ms/step - loss: 0.0043 - mae: 0.0745\n",
      "Epoch 50/100\n",
      "15/15 [==============================] - 0s 22ms/step - loss: 0.0042 - mae: 0.0759\n",
      "Epoch 51/100\n",
      "15/15 [==============================] - 0s 22ms/step - loss: 0.0042 - mae: 0.0749\n",
      "Epoch 52/100\n",
      "15/15 [==============================] - 0s 22ms/step - loss: 0.0044 - mae: 0.0785\n",
      "Epoch 53/100\n",
      "15/15 [==============================] - 0s 23ms/step - loss: 0.0050 - mae: 0.0800\n",
      "Epoch 54/100\n",
      "15/15 [==============================] - 0s 23ms/step - loss: 0.0049 - mae: 0.0835\n",
      "Epoch 55/100\n",
      "15/15 [==============================] - 0s 25ms/step - loss: 0.0043 - mae: 0.0756\n",
      "Epoch 56/100\n",
      "15/15 [==============================] - 0s 23ms/step - loss: 0.0041 - mae: 0.0749\n",
      "Epoch 57/100\n",
      "15/15 [==============================] - 0s 25ms/step - loss: 0.0041 - mae: 0.0748\n",
      "Epoch 58/100\n",
      "15/15 [==============================] - 0s 24ms/step - loss: 0.0040 - mae: 0.0729\n",
      "Epoch 59/100\n",
      "15/15 [==============================] - 0s 23ms/step - loss: 0.0041 - mae: 0.0730\n",
      "Epoch 60/100\n",
      "15/15 [==============================] - 0s 23ms/step - loss: 0.0040 - mae: 0.0743\n",
      "Epoch 61/100\n",
      "15/15 [==============================] - 0s 23ms/step - loss: 0.0043 - mae: 0.0765\n",
      "Epoch 62/100\n",
      "15/15 [==============================] - 0s 23ms/step - loss: 0.0041 - mae: 0.0741\n",
      "Epoch 63/100\n",
      "15/15 [==============================] - 0s 23ms/step - loss: 0.0042 - mae: 0.0756\n",
      "Epoch 64/100\n",
      "15/15 [==============================] - 0s 22ms/step - loss: 0.0041 - mae: 0.0735\n",
      "Epoch 65/100\n",
      "15/15 [==============================] - 0s 23ms/step - loss: 0.0042 - mae: 0.0744\n",
      "Epoch 66/100\n",
      "15/15 [==============================] - 0s 23ms/step - loss: 0.0045 - mae: 0.0779\n",
      "Epoch 67/100\n",
      "15/15 [==============================] - 0s 23ms/step - loss: 0.0046 - mae: 0.0813\n",
      "Epoch 68/100\n",
      "15/15 [==============================] - 0s 25ms/step - loss: 0.0051 - mae: 0.0790\n",
      "Epoch 69/100\n",
      "15/15 [==============================] - 0s 25ms/step - loss: 0.0047 - mae: 0.0824\n",
      "Epoch 70/100\n",
      "15/15 [==============================] - 0s 23ms/step - loss: 0.0046 - mae: 0.0772\n",
      "Epoch 71/100\n",
      "15/15 [==============================] - 0s 24ms/step - loss: 0.0047 - mae: 0.0812\n",
      "Epoch 72/100\n",
      "15/15 [==============================] - 0s 23ms/step - loss: 0.0048 - mae: 0.0792\n",
      "Epoch 73/100\n",
      "15/15 [==============================] - 0s 23ms/step - loss: 0.0043 - mae: 0.0776\n",
      "Epoch 74/100\n",
      "15/15 [==============================] - 0s 24ms/step - loss: 0.0050 - mae: 0.0818\n",
      "Epoch 75/100\n",
      "15/15 [==============================] - 0s 23ms/step - loss: 0.0041 - mae: 0.0748\n",
      "Epoch 76/100\n",
      "15/15 [==============================] - 0s 23ms/step - loss: 0.0047 - mae: 0.0795\n",
      "Epoch 77/100\n",
      "15/15 [==============================] - 0s 23ms/step - loss: 0.0039 - mae: 0.0726\n",
      "Epoch 78/100\n",
      "15/15 [==============================] - 0s 26ms/step - loss: 0.0041 - mae: 0.0746\n",
      "Epoch 79/100\n",
      "15/15 [==============================] - 0s 25ms/step - loss: 0.0039 - mae: 0.0721\n",
      "Epoch 80/100\n",
      "15/15 [==============================] - 0s 24ms/step - loss: 0.0043 - mae: 0.0776\n",
      "Epoch 81/100\n",
      "15/15 [==============================] - 0s 23ms/step - loss: 0.0045 - mae: 0.0738\n",
      "Epoch 82/100\n",
      "15/15 [==============================] - 0s 25ms/step - loss: 0.0050 - mae: 0.0833\n",
      "Epoch 83/100\n",
      "15/15 [==============================] - 0s 27ms/step - loss: 0.0045 - mae: 0.0738\n",
      "Epoch 84/100\n",
      "15/15 [==============================] - 0s 23ms/step - loss: 0.0046 - mae: 0.0797\n",
      "Epoch 85/100\n",
      "15/15 [==============================] - 0s 24ms/step - loss: 0.0040 - mae: 0.0720\n",
      "Epoch 86/100\n",
      "15/15 [==============================] - 0s 23ms/step - loss: 0.0043 - mae: 0.0774\n",
      "Epoch 87/100\n",
      "15/15 [==============================] - 0s 22ms/step - loss: 0.0039 - mae: 0.0710\n",
      "Epoch 88/100\n",
      "15/15 [==============================] - 0s 22ms/step - loss: 0.0045 - mae: 0.0783\n",
      "Epoch 89/100\n",
      "15/15 [==============================] - 0s 22ms/step - loss: 0.0038 - mae: 0.0706\n",
      "Epoch 90/100\n",
      "15/15 [==============================] - 0s 22ms/step - loss: 0.0051 - mae: 0.0828\n",
      "Epoch 91/100\n",
      "15/15 [==============================] - 0s 22ms/step - loss: 0.0041 - mae: 0.0745\n",
      "Epoch 92/100\n",
      "15/15 [==============================] - 0s 21ms/step - loss: 0.0048 - mae: 0.0765\n",
      "Epoch 93/100\n",
      "15/15 [==============================] - 0s 23ms/step - loss: 0.0041 - mae: 0.0755\n",
      "Epoch 94/100\n",
      "15/15 [==============================] - 0s 23ms/step - loss: 0.0044 - mae: 0.0765\n",
      "Epoch 95/100\n",
      "15/15 [==============================] - 0s 24ms/step - loss: 0.0042 - mae: 0.0742\n",
      "Epoch 96/100\n",
      "15/15 [==============================] - 0s 29ms/step - loss: 0.0039 - mae: 0.0726\n",
      "Epoch 97/100\n",
      "15/15 [==============================] - 0s 24ms/step - loss: 0.0040 - mae: 0.0751\n",
      "Epoch 98/100\n",
      "15/15 [==============================] - 0s 24ms/step - loss: 0.0043 - mae: 0.0719\n",
      "Epoch 99/100\n",
      "15/15 [==============================] - 0s 24ms/step - loss: 0.0044 - mae: 0.0784\n",
      "Epoch 100/100\n",
      "15/15 [==============================] - 0s 23ms/step - loss: 0.0041 - mae: 0.0757\n"
     ]
    },
    {
     "data": {
      "text/plain": [
       "<keras.callbacks.History at 0x1db9251d2b0>"
      ]
     },
     "execution_count": 130,
     "metadata": {},
     "output_type": "execute_result"
    }
   ],
   "source": [
    "model.fit_generator(generator, epochs=100)"
   ]
  },
  {
   "cell_type": "code",
   "execution_count": 131,
   "id": "b8bb8331-3a91-4ea2-ba3f-b31592f7f4f9",
   "metadata": {},
   "outputs": [
    {
     "name": "stdout",
     "output_type": "stream",
     "text": [
      "Model: \"sequential\"\n",
      "_________________________________________________________________\n",
      " Layer (type)                Output Shape              Param #   \n",
      "=================================================================\n",
      " conv1d (Conv1D)             (None, 16, 64)            256       \n",
      "                                                                 \n",
      " lstm (LSTM)                 (None, 16, 64)            33024     \n",
      "                                                                 \n",
      " lstm_1 (LSTM)               (None, 64)                33024     \n",
      "                                                                 \n",
      " dense (Dense)               (None, 30)                1950      \n",
      "                                                                 \n",
      " dense_1 (Dense)             (None, 10)                310       \n",
      "                                                                 \n",
      " dense_2 (Dense)             (None, 1)                 11        \n",
      "                                                                 \n",
      " lambda (Lambda)             (None, 1)                 0         \n",
      "                                                                 \n",
      "=================================================================\n",
      "Total params: 68,575\n",
      "Trainable params: 68,575\n",
      "Non-trainable params: 0\n",
      "_________________________________________________________________\n"
     ]
    }
   ],
   "source": [
    "model.summary()"
   ]
  },
  {
   "cell_type": "code",
   "execution_count": 132,
   "id": "2fc6b445-b839-4d32-8409-6fb8f3505d05",
   "metadata": {},
   "outputs": [],
   "source": [
    "losses = pd.DataFrame(model.history.history)"
   ]
  },
  {
   "cell_type": "code",
   "execution_count": 133,
   "id": "ab198ccd-0ff4-4772-9a71-8cf8391a0ce1",
   "metadata": {},
   "outputs": [
    {
     "data": {
      "text/plain": [
       "<AxesSubplot:>"
      ]
     },
     "execution_count": 133,
     "metadata": {},
     "output_type": "execute_result"
    },
    {
     "data": {
      "image/png": "[encoded data removed]",
      "text/plain": [
       "<Figure size 640x480 with 1 Axes>"
      ]
     },
     "metadata": {},
     "output_type": "display_data"
    }
   ],
   "source": [
    "losses.plot()"
   ]
  },
  {
   "cell_type": "markdown",
   "id": "ba2163f2-71b5-49b6-9e89-62c897f71971",
   "metadata": {},
   "source": [
    "## Evaluate test set"
   ]
  },
  {
   "cell_type": "code",
   "execution_count": 134,
   "id": "8c4952e6-f8cc-49a1-a1a4-61c61b7e245a",
   "metadata": {},
   "outputs": [],
   "source": [
    "first_eval_batch = scaled_train[-length:] # picks last 16 values in train set"
   ]
  },
  {
   "cell_type": "code",
   "execution_count": 135,
   "id": "9e4585eb-6320-4d53-910e-7f9861baab88",
   "metadata": {},
   "outputs": [
    {
     "data": {
      "text/plain": [
       "array([[0.28486239],\n",
       "       [0.285196  ],\n",
       "       [0.28127606],\n",
       "       [0.28615513],\n",
       "       [0.31109258],\n",
       "       [0.36659716],\n",
       "       [0.35158465],\n",
       "       [0.32243536],\n",
       "       [0.33131776],\n",
       "       [0.34491243],\n",
       "       [0.33019183],\n",
       "       [0.32151793],\n",
       "       [0.41351126],\n",
       "       [0.41351126],\n",
       "       [0.42981651],\n",
       "       [0.42739783]])"
      ]
     },
     "execution_count": 135,
     "metadata": {},
     "output_type": "execute_result"
    }
   ],
   "source": [
    "first_eval_batch"
   ]
  },
  {
   "cell_type": "code",
   "execution_count": 136,
   "id": "26d6eaaf-5486-4753-9cbc-b503628b4b5a",
   "metadata": {},
   "outputs": [],
   "source": [
    "first_eval_batch = first_eval_batch.reshape((1, length, 1))"
   ]
  },
  {
   "cell_type": "code",
   "execution_count": 137,
   "id": "bd18ed32-93d0-4b01-9ded-0033471fbae4",
   "metadata": {},
   "outputs": [
    {
     "data": {
      "text/plain": [
       "array([[[0.28486239],\n",
       "        [0.285196  ],\n",
       "        [0.28127606],\n",
       "        [0.28615513],\n",
       "        [0.31109258],\n",
       "        [0.36659716],\n",
       "        [0.35158465],\n",
       "        [0.32243536],\n",
       "        [0.33131776],\n",
       "        [0.34491243],\n",
       "        [0.33019183],\n",
       "        [0.32151793],\n",
       "        [0.41351126],\n",
       "        [0.41351126],\n",
       "        [0.42981651],\n",
       "        [0.42739783]]])"
      ]
     },
     "execution_count": 137,
     "metadata": {},
     "output_type": "execute_result"
    }
   ],
   "source": [
    "first_eval_batch"
   ]
  },
  {
   "cell_type": "code",
   "execution_count": 138,
   "id": "a020f3bf-1fa2-41db-9dd5-4ebfdf66280e",
   "metadata": {},
   "outputs": [
    {
     "name": "stdout",
     "output_type": "stream",
     "text": [
      "1/1 [==============================] - 1s 1s/step\n"
     ]
    },
    {
     "data": {
      "text/plain": [
       "array([[0.428268]], dtype=float32)"
      ]
     },
     "execution_count": 138,
     "metadata": {},
     "output_type": "execute_result"
    }
   ],
   "source": [
    "model.predict(first_eval_batch) #first prediction after train set which is first value of test"
   ]
  },
  {
   "cell_type": "code",
   "execution_count": 139,
   "id": "0b9a82b9-8f68-496d-ab3b-32c8fdbd9b45",
   "metadata": {},
   "outputs": [
    {
     "data": {
      "text/plain": [
       "array([0.44637198])"
      ]
     },
     "execution_count": 139,
     "metadata": {},
     "output_type": "execute_result"
    }
   ],
   "source": [
    "scaled_test[0]"
   ]
  },
  {
   "cell_type": "code",
   "execution_count": 140,
   "id": "69156bcf-c3ea-4eb8-9037-f2ff038f4437",
   "metadata": {},
   "outputs": [
    {
     "name": "stdout",
     "output_type": "stream",
     "text": [
      "1/1 [==============================] - 0s 46ms/step\n",
      "1/1 [==============================] - 0s 47ms/step\n",
      "1/1 [==============================] - 0s 45ms/step\n",
      "1/1 [==============================] - 0s 28ms/step\n",
      "1/1 [==============================] - 0s 37ms/step\n",
      "1/1 [==============================] - 0s 34ms/step\n",
      "1/1 [==============================] - 0s 30ms/step\n",
      "1/1 [==============================] - 0s 28ms/step\n",
      "1/1 [==============================] - 0s 35ms/step\n",
      "1/1 [==============================] - 0s 112ms/step\n",
      "1/1 [==============================] - 0s 54ms/step\n",
      "1/1 [==============================] - 0s 43ms/step\n",
      "1/1 [==============================] - 0s 37ms/step\n",
      "1/1 [==============================] - 0s 34ms/step\n",
      "1/1 [==============================] - 0s 33ms/step\n",
      "1/1 [==============================] - 0s 28ms/step\n"
     ]
    }
   ],
   "source": [
    "test_predictions = []\n",
    "\n",
    "first_eval_batch = scaled_train[-length:]\n",
    "current_batch = first_eval_batch.reshape((1,length,n_features))\n",
    "\n",
    "for i in range(len(test)):\n",
    "    # Get prediction 1 time stamp ahead ([0] is for grabbing just the number instead of [array])\n",
    "    current_pred = model.predict(current_batch)[0]\n",
    "    \n",
    "    #store prediction\n",
    "    test_predictions.append(current_pred)\n",
    "    \n",
    "    #update batch to include prediction and drop first value\n",
    "    current_batch = np.append(current_batch[:,1:,:],[[current_pred]],axis=1)\n",
    "                                "
   ]
  },
  {
   "cell_type": "code",
   "execution_count": 141,
   "id": "82195238-65ae-4e66-a4a1-5c7381066772",
   "metadata": {},
   "outputs": [
    {
     "data": {
      "text/plain": [
       "[array([0.428268], dtype=float32),\n",
       " array([0.43895772], dtype=float32),\n",
       " array([0.4473153], dtype=float32),\n",
       " array([0.45377007], dtype=float32),\n",
       " array([0.45893076], dtype=float32),\n",
       " array([0.46341023], dtype=float32),\n",
       " array([0.4686387], dtype=float32),\n",
       " array([0.4723972], dtype=float32),\n",
       " array([0.47444686], dtype=float32),\n",
       " array([0.47594038], dtype=float32),\n",
       " array([0.4770004], dtype=float32),\n",
       " array([0.47675154], dtype=float32),\n",
       " array([0.47538796], dtype=float32),\n",
       " array([0.47542608], dtype=float32),\n",
       " array([0.47469866], dtype=float32),\n",
       " array([0.4738354], dtype=float32)]"
      ]
     },
     "execution_count": 141,
     "metadata": {},
     "output_type": "execute_result"
    }
   ],
   "source": [
    "test_predictions"
   ]
  },
  {
   "cell_type": "code",
   "execution_count": 142,
   "id": "712acdf7-51ae-499e-a257-6faceae9d5b4",
   "metadata": {},
   "outputs": [],
   "source": [
    "true_predictions = scaler.inverse_transform(test_predictions)"
   ]
  },
  {
   "cell_type": "code",
   "execution_count": 143,
   "id": "f2c73657-aebf-406e-ba4e-f98515537d21",
   "metadata": {},
   "outputs": [
    {
     "data": {
      "text/plain": [
       "array([[3333.64331471],\n",
       "       [3346.46030747],\n",
       "       [3356.48105126],\n",
       "       [3364.22031545],\n",
       "       [3370.40798199],\n",
       "       [3375.77886396],\n",
       "       [3382.0477873 ],\n",
       "       [3386.55425265],\n",
       "       [3389.01178866],\n",
       "       [3390.80251145],\n",
       "       [3392.07346224],\n",
       "       [3391.77509182],\n",
       "       [3390.14016485],\n",
       "       [3390.18586733],\n",
       "       [3389.31369665],\n",
       "       [3388.27865502]])"
      ]
     },
     "execution_count": 143,
     "metadata": {},
     "output_type": "execute_result"
    }
   ],
   "source": [
    "true_predictions"
   ]
  },
  {
   "cell_type": "code",
   "execution_count": 144,
   "id": "f9c6cc06-7e7f-4594-a956-c51db61fc425",
   "metadata": {},
   "outputs": [
    {
     "name": "stderr",
     "output_type": "stream",
     "text": [
      "C:\\Users\\vijai\\AppData\\Local\\Temp\\ipykernel_11300\\349349345.py:1: SettingWithCopyWarning: \n",
      "A value is trying to be set on a copy of a slice from a DataFrame.\n",
      "Try using .loc[row_indexer,col_indexer] = value instead\n",
      "\n",
      "See the caveats in the documentation: https://pandas.pydata.org/pandas-docs/stable/user_guide/indexing.html#returning-a-view-versus-a-copy\n",
      "  test['predictions'] = true_predictions\n"
     ]
    }
   ],
   "source": [
    "test['predictions'] = true_predictions"
   ]
  },
  {
   "cell_type": "code",
   "execution_count": 145,
   "id": "c7842146-2123-4832-aad2-072544536492",
   "metadata": {},
   "outputs": [
    {
     "data": {
      "text/html": [
       "<div>\n",
       "<style scoped>\n",
       "    .dataframe tbody tr th:only-of-type {\n",
       "        vertical-align: middle;\n",
       "    }\n",
       "\n",
       "    .dataframe tbody tr th {\n",
       "        vertical-align: top;\n",
       "    }\n",
       "\n",
       "    .dataframe thead th {\n",
       "        text-align: right;\n",
       "    }\n",
       "</style>\n",
       "<table border=\"1\" class=\"dataframe\">\n",
       "  <thead>\n",
       "    <tr style=\"text-align: right;\">\n",
       "      <th></th>\n",
       "      <th>close</th>\n",
       "      <th>predictions</th>\n",
       "    </tr>\n",
       "  </thead>\n",
       "  <tbody>\n",
       "    <tr>\n",
       "      <th>480</th>\n",
       "      <td>3355.35</td>\n",
       "      <td>3333.643315</td>\n",
       "    </tr>\n",
       "    <tr>\n",
       "      <th>481</th>\n",
       "      <td>3349.00</td>\n",
       "      <td>3346.460307</td>\n",
       "    </tr>\n",
       "    <tr>\n",
       "      <th>482</th>\n",
       "      <td>3343.45</td>\n",
       "      <td>3356.481051</td>\n",
       "    </tr>\n",
       "    <tr>\n",
       "      <th>483</th>\n",
       "      <td>3283.50</td>\n",
       "      <td>3364.220315</td>\n",
       "    </tr>\n",
       "    <tr>\n",
       "      <th>484</th>\n",
       "      <td>3314.95</td>\n",
       "      <td>3370.407982</td>\n",
       "    </tr>\n",
       "    <tr>\n",
       "      <th>485</th>\n",
       "      <td>3308.30</td>\n",
       "      <td>3375.778864</td>\n",
       "    </tr>\n",
       "    <tr>\n",
       "      <th>486</th>\n",
       "      <td>3380.15</td>\n",
       "      <td>3382.047787</td>\n",
       "    </tr>\n",
       "    <tr>\n",
       "      <th>487</th>\n",
       "      <td>3389.65</td>\n",
       "      <td>3386.554253</td>\n",
       "    </tr>\n",
       "    <tr>\n",
       "      <th>488</th>\n",
       "      <td>3395.25</td>\n",
       "      <td>3389.011789</td>\n",
       "    </tr>\n",
       "    <tr>\n",
       "      <th>489</th>\n",
       "      <td>3397.35</td>\n",
       "      <td>3390.802511</td>\n",
       "    </tr>\n",
       "    <tr>\n",
       "      <th>490</th>\n",
       "      <td>3390.80</td>\n",
       "      <td>3392.073462</td>\n",
       "    </tr>\n",
       "    <tr>\n",
       "      <th>491</th>\n",
       "      <td>3475.65</td>\n",
       "      <td>3391.775092</td>\n",
       "    </tr>\n",
       "    <tr>\n",
       "      <th>492</th>\n",
       "      <td>3439.15</td>\n",
       "      <td>3390.140165</td>\n",
       "    </tr>\n",
       "    <tr>\n",
       "      <th>493</th>\n",
       "      <td>3425.90</td>\n",
       "      <td>3390.185867</td>\n",
       "    </tr>\n",
       "    <tr>\n",
       "      <th>494</th>\n",
       "      <td>3385.35</td>\n",
       "      <td>3389.313697</td>\n",
       "    </tr>\n",
       "    <tr>\n",
       "      <th>495</th>\n",
       "      <td>3380.60</td>\n",
       "      <td>3388.278655</td>\n",
       "    </tr>\n",
       "  </tbody>\n",
       "</table>\n",
       "</div>"
      ],
      "text/plain": [
       "       close  predictions\n",
       "480  3355.35  3333.643315\n",
       "481  3349.00  3346.460307\n",
       "482  3343.45  3356.481051\n",
       "483  3283.50  3364.220315\n",
       "484  3314.95  3370.407982\n",
       "485  3308.30  3375.778864\n",
       "486  3380.15  3382.047787\n",
       "487  3389.65  3386.554253\n",
       "488  3395.25  3389.011789\n",
       "489  3397.35  3390.802511\n",
       "490  3390.80  3392.073462\n",
       "491  3475.65  3391.775092\n",
       "492  3439.15  3390.140165\n",
       "493  3425.90  3390.185867\n",
       "494  3385.35  3389.313697\n",
       "495  3380.60  3388.278655"
      ]
     },
     "execution_count": 145,
     "metadata": {},
     "output_type": "execute_result"
    }
   ],
   "source": [
    "test"
   ]
  },
  {
   "cell_type": "code",
   "execution_count": 146,
   "id": "fae2bd7d-d268-417a-950c-5e79b35b46e6",
   "metadata": {},
   "outputs": [
    {
     "data": {
      "text/plain": [
       "<AxesSubplot:>"
      ]
     },
     "execution_count": 146,
     "metadata": {},
     "output_type": "execute_result"
    },
    {
     "data": {
      "image/png": "[encoded data removed]",
      "text/plain": [
       "<Figure size 1200x800 with 1 Axes>"
      ]
     },
     "metadata": {},
     "output_type": "display_data"
    },
    {
     "data": {
      "image/png": "[encoded data removed]",
      "text/plain": [
       "<Figure size 640x480 with 1 Axes>"
      ]
     },
     "metadata": {},
     "output_type": "display_data"
    }
   ],
   "source": [
    "test.plot(figsize=(12,8))\n",
    "tcs_close.plot()"
   ]
  },
  {
   "cell_type": "markdown",
   "id": "7a256586-1cd6-479c-b6de-1644d715efe5",
   "metadata": {},
   "source": [
    "## Let us create Full Model"
   ]
  },
  {
   "cell_type": "code",
   "execution_count": null,
   "id": "6936343f-855c-46ec-a150-e4c09a4edc69",
   "metadata": {},
   "outputs": [],
   "source": [
    "full_scaler = MinMaxScaler()\n",
    "scaled_full_data = full_scaler.fit_transform(tcs_close)"
   ]
  },
  {
   "cell_type": "code",
   "execution_count": null,
   "id": "d50dbf7d-aa2b-4dad-afb5-e1c6e0507e16",
   "metadata": {},
   "outputs": [],
   "source": [
    "generator = TimeseriesGenerator(scaled_full_data, scaled_full_data, length = length, batch_size=32)"
   ]
  },
  {
   "cell_type": "code",
   "execution_count": null,
   "id": "97f10abb-094f-455e-a3d8-055bd8052b7f",
   "metadata": {},
   "outputs": [],
   "source": [
    "model = Sequential()\n",
    "\n",
    "model.add(SimpleRNN(30,input_shape=(length,n_features)))\n",
    "model.add(Dropout(rate=0.2))\n",
    "model.add(Dense(1))\n",
    "\n",
    "model.compile(optimizer='adam', loss='mse')"
   ]
  },
  {
   "cell_type": "code",
   "execution_count": null,
   "id": "2666798f-e6b0-452f-9785-90ea6dfa6120",
   "metadata": {},
   "outputs": [],
   "source": [
    "model.fit_generator(generator, epochs=10, shuffle=False)"
   ]
  },
  {
   "cell_type": "code",
   "execution_count": null,
   "id": "2951fa24-7b3b-42ac-a59a-f71177ceaf6d",
   "metadata": {},
   "outputs": [],
   "source": [
    "full_model_losses = pd.DataFrame(model.history.history)\n",
    "full_model_losses.plot()"
   ]
  },
  {
   "cell_type": "code",
   "execution_count": null,
   "id": "ead92914-6b58-48a2-861c-5e179e6f5c13",
   "metadata": {},
   "outputs": [],
   "source": [
    "forecast = []\n",
    "\n",
    "first_eval_batch = scaled_train[-length:]\n",
    "current_batch = first_eval_batch.reshape((1,length,n_features))\n",
    "\n",
    "for i in range(20):\n",
    "    #get prediction 1 time stamp ahead ([0] is for grabbing just the number instead of [array])\n",
    "    current_pred = model.predict(current_batch)[0]\n",
    "    \n",
    "    #store prediction\n",
    "    forecast.append(current_pred)\n",
    "    \n",
    "    #update batch to now include prediction and drop first value\n",
    "    current_batch = np.append(current_batch[:,1:,:],[[current_pred]],axis=1)"
   ]
  },
  {
   "cell_type": "code",
   "execution_count": null,
   "id": "c36b15c5-5356-4843-8241-4170b496f4ab",
   "metadata": {},
   "outputs": [],
   "source": [
    "forecast = scaler.inverse_transform(forecast)"
   ]
  },
  {
   "cell_type": "code",
   "execution_count": null,
   "id": "173b80c9-14c3-4ab8-9a2a-585db19f6c92",
   "metadata": {},
   "outputs": [],
   "source": [
    "forecast"
   ]
  },
  {
   "cell_type": "code",
   "execution_count": null,
   "id": "46279edc-6e6e-4f37-83c7-ea3cdbfaa710",
   "metadata": {},
   "outputs": [],
   "source": [
    "forecast.flatten()"
   ]
  },
  {
   "cell_type": "code",
   "execution_count": null,
   "id": "efaeb5e7-fb3c-430d-8fcd-96d122e0a198",
   "metadata": {
    "tags": []
   },
   "outputs": [],
   "source": [
    "df_array = np.array(tcs_close)\n",
    "df_array"
   ]
  },
  {
   "cell_type": "code",
   "execution_count": null,
   "id": "f43dec6b-0c13-45b9-a9f4-fca6d0c94abb",
   "metadata": {},
   "outputs": [],
   "source": [
    "full_data = pd.DataFrame(np.concatenate((df_array.flatten(), forecast.flatten())))"
   ]
  },
  {
   "cell_type": "code",
   "execution_count": null,
   "id": "7612cc1a-09a5-4d37-b4ca-19403bcc0131",
   "metadata": {},
   "outputs": [],
   "source": [
    "full_data.plot()"
   ]
  },
  {
   "cell_type": "markdown",
   "id": "7719eab1-9f7a-4e82-b2e9-7f50ffa6882d",
   "metadata": {},
   "source": [
    "## LSTM Model"
   ]
  },
  {
   "cell_type": "code",
   "execution_count": null,
   "id": "3d5ccff2-da43-4582-853b-03e58cb3806b",
   "metadata": {},
   "outputs": [],
   "source": [
    "from tensorflow.keras.callbacks import EarlyStopping\n",
    "early_stop = EarlyStopping(monitor='val_loss', patience=2)"
   ]
  },
  {
   "cell_type": "code",
   "execution_count": null,
   "id": "a5d46075-b6ea-400a-914e-f12224d84d17",
   "metadata": {},
   "outputs": [],
   "source": [
    "length"
   ]
  },
  {
   "cell_type": "code",
   "execution_count": null,
   "id": "a480e0df-065f-49ba-8b18-cdcdbc9846ae",
   "metadata": {},
   "outputs": [],
   "source": [
    "scaled_test.shape"
   ]
  },
  {
   "cell_type": "code",
   "execution_count": null,
   "id": "62a31da0-d32f-4cb1-8dde-9a5386fc80ed",
   "metadata": {},
   "outputs": [],
   "source": [
    "length = 15\n",
    "generator = TimeseriesGenerator(scaled_train, scaled_train, length=length, batch_size=32)\n",
    "\n",
    "validation_generator = TimeseriesGenerator(scaled_test,scaled_test, length=length, batch_size=32)"
   ]
  },
  {
   "cell_type": "code",
   "execution_count": null,
   "id": "7695be62-d0de-45a0-8559-6cec62233e31",
   "metadata": {},
   "outputs": [],
   "source": [
    "model = Sequential()\n",
    "\n",
    "model.add(LSTM(30,input_shape=(length,n_features)))\n",
    "model.add(Dropout(rate=0.2))\n",
    "model.add(Dense(1))\n",
    "model.compile(optimizer='adam',loss='mse')"
   ]
  },
  {
   "cell_type": "code",
   "execution_count": null,
   "id": "2e0d74b4-8f9e-4616-ae31-46a183fcfcd7",
   "metadata": {},
   "outputs": [],
   "source": [
    "model.fit_generator(generator,epochs=20,validation_data=validation_generator,callbacks=[early_stop],shuffle=False)"
   ]
  },
  {
   "cell_type": "code",
   "execution_count": null,
   "id": "2d01d694-e6f0-46ea-8494-af8bd80d1a20",
   "metadata": {},
   "outputs": [],
   "source": [
    "losses = pd.DataFrame(model.history.history)\n",
    "losses.plot()"
   ]
  },
  {
   "cell_type": "code",
   "execution_count": null,
   "id": "24178189-636b-48cb-bd38-492b6a87addb",
   "metadata": {},
   "outputs": [],
   "source": [
    "test_predictions = []\n",
    "\n",
    "first_eval_batch = scaled_train[-length:]\n",
    "current_batch = first_eval_batch.reshape((1,length,n_features))\n",
    "\n",
    "for i in range(len(test)):\n",
    "    # Get prediction 1 time stamp ahead ([0] is for grabbing just the number instead of [array])\n",
    "    current_pred = model.predict(current_batch)[0]\n",
    "    \n",
    "    #store prediction\n",
    "    test_predictions.append(current_pred)\n",
    "    \n",
    "    #update batch to include prediction and drop first value\n",
    "    current_batch = np.append(current_batch[:,1:,:],[[current_pred]],axis=1)"
   ]
  },
  {
   "cell_type": "code",
   "execution_count": null,
   "id": "2d9471c8-e1bc-44b0-a573-7d46e1550220",
   "metadata": {},
   "outputs": [],
   "source": [
    "true_predictions = scaler.inverse_transform(test_predictions)\n",
    "test['LSTM_predictions'] = true_predictions\n",
    "test.plot(figsize=(12,8))"
   ]
  },
  {
   "cell_type": "code",
   "execution_count": null,
   "id": "a83db63c-c80a-4df0-ad27-085fc16380db",
   "metadata": {},
   "outputs": [],
   "source": [
    "forecast = []\n",
    "\n",
    "first_eval_batch = scaled_train[-length:]\n",
    "current_batch = first_eval_batch.reshape((1,length,n_features))\n",
    "\n",
    "for i in range(15):\n",
    "    #get prediction 1 time stamp ahead ([0] is for grabbing just the number instead of [array])\n",
    "    current_pred = model.predict(current_batch)[0]\n",
    "    \n",
    "    #store prediction\n",
    "    forecast.append(current_pred)\n",
    "    \n",
    "    #update batch to now include prediction and drop first value\n",
    "    current_batch = np.append(current_batch[:,1:,:],[[current_pred]],axis=1)"
   ]
  },
  {
   "cell_type": "code",
   "execution_count": null,
   "id": "494709da-29ed-44ee-b25f-9f0435f5dfbe",
   "metadata": {},
   "outputs": [],
   "source": [
    "forecast = scaler.inverse_transform(forecast)"
   ]
  },
  {
   "cell_type": "code",
   "execution_count": null,
   "id": "ce14c521-5779-485e-801e-db9b8473429e",
   "metadata": {},
   "outputs": [],
   "source": [
    "full_data = pd.DataFrame(np.concatenate((df_array.flatten(), forecast.flatten())))"
   ]
  },
  {
   "cell_type": "code",
   "execution_count": null,
   "id": "6f2135c7-354a-4bc0-89ab-243f2e4d6467",
   "metadata": {},
   "outputs": [],
   "source": [
    "full_data.plot()"
   ]
  },
  {
   "cell_type": "code",
   "execution_count": null,
   "id": "d6e62314-c5ed-4c28-9116-3c96c6b02367",
   "metadata": {},
   "outputs": [],
   "source": [
    "forecast"
   ]
  },
  {
   "cell_type": "code",
   "execution_count": null,
   "id": "8d5e8b53-de9f-4c7e-9ff3-73ff0c7cebbd",
   "metadata": {},
   "outputs": [],
   "source": [
    "full_data.tail(30)"
   ]
  },
  {
   "cell_type": "markdown",
   "id": "fa93a68e-8b67-4100-a2b3-37e453dc04b4",
   "metadata": {},
   "source": [
    "## FB Prophet model"
   ]
  },
  {
   "cell_type": "code",
   "execution_count": null,
   "id": "f6d6cf93-46a5-404a-a548-325b57cff201",
   "metadata": {},
   "outputs": [],
   "source": [
    "df.reset_index(inplace=True)"
   ]
  },
  {
   "cell_type": "code",
   "execution_count": null,
   "id": "d82289c8-2afc-45be-a1bb-08acc2eb4903",
   "metadata": {},
   "outputs": [],
   "source": [
    "data = df[['Date','close']]"
   ]
  },
  {
   "cell_type": "code",
   "execution_count": null,
   "id": "fa484396-d28d-46c5-b910-4240830f4aa0",
   "metadata": {},
   "outputs": [],
   "source": [
    "data.head()"
   ]
  },
  {
   "cell_type": "code",
   "execution_count": null,
   "id": "cf4e3762-9ae2-47d5-9b64-761c4fee7ddb",
   "metadata": {},
   "outputs": [],
   "source": [
    "from fbprophet import Prophet\n",
    "m = Prophet(changepoint_prior_scale=0.15, daily_seasonality = True) # The prophet class model\n",
    "m.fit(data) # fit the model using all data"
   ]
  },
  {
   "cell_type": "code",
   "execution_count": null,
   "id": "40046e87-82ea-4f04-92b4-9a9dcf47b16a",
   "metadata": {},
   "outputs": [],
   "source": [
    "future = m.make_future_dataframe(periods=21) # We need to specify the number of days in future\n",
    "prediction = m.predict(future)\n",
    "m.plot(prediction)\n",
    "plt.title(\"Prediction of the Google Stock Price using the Prophet\")\n",
    "plt.xlabel(\"Date\")\n",
    "plt.ylabel(\"Close Stock Price\")\n",
    "plt.show()"
   ]
  },
  {
   "cell_type": "code",
   "execution_count": null,
   "id": "f7fcd695-0624-46b8-8f64-bf031d1e576d",
   "metadata": {},
   "outputs": [],
   "source": [
    "m.plot_components(prediction)\n",
    "plt.show()"
   ]
  },
  {
   "cell_type": "code",
   "execution_count": null,
   "id": "35ac36c4-6f65-43f8-bcc5-0a47b6a2e9b7",
   "metadata": {},
   "outputs": [],
   "source": []
  }
 ],
 "metadata": {
  "kernelspec": {
   "display_name": "Python 3 (ipykernel)",
   "language": "python",
   "name": "python3"
  },
  "language_info": {
   "codemirror_mode": {
    "name": "ipython",
    "version": 3
   },
   "file_extension": ".py",
   "mimetype": "text/x-python",
   "name": "python",
   "nbconvert_exporter": "python",
   "pygments_lexer": "ipython3",
   "version": "3.9.13"
  }
 },
 "nbformat": 4,
 "nbformat_minor": 5
}
